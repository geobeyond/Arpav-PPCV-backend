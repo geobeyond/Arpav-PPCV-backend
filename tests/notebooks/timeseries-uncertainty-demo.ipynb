{
 "cells": [
  {
   "cell_type": "markdown",
   "id": "1c84df8e-9d6a-4bb7-9b30-968e11bdb47f",
   "metadata": {},
   "source": [
    "# Timeseries uncertainty demo\n",
    "\n",
    "In this notebook we use the backend API to retrieve a time series and then plot it with the respective uncertainty bounds."
   ]
  },
  {
   "cell_type": "code",
   "execution_count": 1,
   "id": "79050d6c-1899-47b9-8d8e-d6f28bdcdb58",
   "metadata": {},
   "source": [
    "%matplotlib widget\n",
    "\n",
    "import httpx\n",
    "import matplotlib.pyplot as plt\n",
    "import pandas as pd\n",
    "\n",
    "coverage_identifier = \"uncertainty_bounds_test-rcp26-DJF\"\n",
    "point_coords = \"POINT(11.5469 44.9524)\"\n",
    "date_range = \"../..\"\n",
    "api_url = f\"http://webapp:5001/api/v2/coverages/time-series/{coverage_identifier}\"\n",
    "\n",
    "\n",
    "def _parse_to_dataframe(time_series: dict):\n",
    "    df = pd.DataFrame.from_records(time_series[\"values\"])\n",
    "    df[\"datetime\"] = pd.to_datetime(df[\"datetime\"])\n",
    "    df.set_index(\"datetime\", inplace=True)\n",
    "    return df    "
   ],
   "outputs": []
  },
  {
   "cell_type": "code",
   "execution_count": 3,
   "id": "b296c605-af4f-4212-819c-454cc7cd01bb",
   "metadata": {},
   "source": [
    "raw_response = httpx.get(\n",
    "    api_url,\n",
    "    params={\n",
    "        \"coords\": point_coords,\n",
    "        \"datetime\": date_range,\n",
    "        \"include_coverage_data\": True,\n",
    "        \"include_observation_data\": True,\n",
    "        \"coverage_data_smoothing\": [\n",
    "            \"MOVING_AVERAGE_11_YEARS\",\n",
    "        ],\n",
    "        \"observation_data_smoothing\": [\n",
    "            \"MOVING_AVERAGE_5_YEARS\",\n",
    "        ],\n",
    "        \"include_coverage_uncertainty\": True,\n",
    "        \"include_coverage_related_data\": False,\n",
    "    }\n",
    ")\n",
    "raw_response.raise_for_status()\n",
    "\n",
    "raw_series = raw_response.json()[\"series\"]\n",
    "\n",
    "series = {s[\"name\"]: s for s in raw_series}"
   ],
   "outputs": []
  },
  {
   "cell_type": "code",
   "execution_count": 4,
   "id": "5d266d88-4a0e-4bad-a36c-d3532f7d6f84",
   "metadata": {},
   "source": [
    "smoothed_ma11_coverage_df = _parse_to_dataframe(series[f\"{coverage_identifier}__MOVING_AVERAGE_11_YEARS\"])\n",
    "smoothed_ma11_uncertainty_lower_coverage_df = _parse_to_dataframe(series[f\"{coverage_identifier}__UNCERTAINTY_LOWER_BOUND__MOVING_AVERAGE_11_YEARS\"])\n",
    "smoothed_ma11_uncertainty_upper_coverage_df = _parse_to_dataframe(series[f\"{coverage_identifier}__UNCERTAINTY_UPPER_BOUND__MOVING_AVERAGE_11_YEARS\"])\n",
    "smoothed_ma5_station_df = _parse_to_dataframe(series[f\"TDd__MOVING_AVERAGE_5_YEARS\"])"
   ],
   "outputs": []
  },
  {
   "cell_type": "markdown",
   "id": "a39724be-fb1b-4fff-9a92-b5a4c0d70ae6",
   "metadata": {},
   "source": [
    "### Plotting"
   ]
  },
  {
   "cell_type": "code",
   "execution_count": 5,
   "id": "9b1ddd10-6e0e-478f-babe-464e16dc07d3",
   "metadata": {},
   "source": [
    "fig, ax = plt.subplots()\n",
    "smoothed_ma11_tas_line, = ax.plot(smoothed_ma11_coverage_df, label=series[f\"{coverage_identifier}__MOVING_AVERAGE_11_YEARS\"][\"name\"])\n",
    "ax.fill_between(\n",
    "    smoothed_ma11_uncertainty_lower_coverage_df.index, \n",
    "    smoothed_ma11_uncertainty_lower_coverage_df.value, \n",
    "    smoothed_ma11_uncertainty_upper_coverage_df.value,\n",
    "    alpha=0.5,\n",
    "    linewidth=0\n",
    ")\n",
    "smoothed_ma5_station_line, = ax.plot(smoothed_ma5_station_df, label=series[\"TDd__MOVING_AVERAGE_5_YEARS\"][\"name\"])\n",
    "ax.legend()"
   ],
   "outputs": []
  },
  {
   "cell_type": "code",
   "execution_count": 42,
   "id": "ad36d2cb-c748-4076-944c-fffecf3c5818",
   "metadata": {},
   "source": [
    "ax.clear()"
   ],
   "outputs": []
  }
 ],
 "metadata": {
  "kernelspec": {
   "display_name": "Python 3 (ipykernel)",
   "language": "python",
   "name": "python3"
  },
  "language_info": {
   "codemirror_mode": {
    "name": "ipython",
    "version": 3
   },
   "file_extension": ".py",
   "mimetype": "text/x-python",
   "name": "python",
   "nbconvert_exporter": "python",
   "pygments_lexer": "ipython3",
   "version": "3.10.8"
  }
 },
 "nbformat": 4,
 "nbformat_minor": 5
}
