{
 "cells": [
  {
   "cell_type": "code",
   "execution_count": 1,
   "id": "dbcc00b1-2fc1-43ff-9549-ebca8cf03262",
   "metadata": {},
   "outputs": [],
   "source": [
    "%matplotlib widget\n",
    "\n",
    "import logging\n",
    "import time\n",
    "\n",
    "import cftime\n",
    "import httpx\n",
    "import matplotlib.pyplot as plt\n",
    "import netCDF4\n",
    "import pandas as pd\n",
    "import shapely.io\n",
    "import sqlmodel\n",
    "from loess.loess_1d import loess_1d\n",
    "\n",
    "from arpav_ppcv import (\n",
    "    database as db,\n",
    "    operations,\n",
    ")\n",
    "from arpav_ppcv.config import get_settings\n",
    "from arpav_ppcv.schemas.base import (\n",
    "    CoverageDataSmoothingStrategy,\n",
    "    ObservationDataSmoothingStrategy,\n",
    "    ObservationAggregationType,\n",
    "    Season,\n",
    ")\n",
    "from arpav_ppcv.schemas.coverages import CoverageInternal\n",
    "\n",
    "logging.basicConfig(level=logging.DEBUG)\n",
    "logging.getLogger(\"httpx\").setLevel(logging.WARNING)\n",
    "logging.getLogger(\"httpcore\").setLevel(logging.WARNING)\n",
    "logging.getLogger(\"matplotlib\").setLevel(logging.WARNING)\n",
    "\n",
    "settings = get_settings()\n",
    "session = sqlmodel.Session(db.get_engine(settings))\n",
    "http_client = httpx.Client()"
   ]
  },
  {
   "cell_type": "code",
   "execution_count": 2,
   "id": "c65166b7-4173-444c-be69-688ff5f6b874",
   "metadata": {},
   "outputs": [],
   "source": [
    "coverage_identifier = \"tas_seasonal_absolute_model_ensemble-rcp26-DJF\"\n",
    "point_coords = \"POINT(11.5469 44.9524)\"\n",
    "date_range = \"../..\"\n",
    "\n",
    "cov = CoverageInternal(\n",
    "    configuration=db.get_coverage_configuration_by_coverage_identifier(session, coverage_identifier), \n",
    "    identifier=coverage_identifier\n",
    ")"
   ]
  },
  {
   "cell_type": "code",
   "execution_count": 3,
   "id": "4ac51747-ee8e-468a-a791-5f815b80286a",
   "metadata": {},
   "outputs": [],
   "source": [
    "settings.debug = False"
   ]
  },
  {
   "metadata": {},
   "cell_type": "code",
   "outputs": [],
   "execution_count": null,
   "source": [
    "new_time_start = time.time()\n",
    "coverage_series, observation_series = operations.get_coverage_time_series(\n",
    "    settings=settings,\n",
    "    session=session,\n",
    "    coverage=cov,\n",
    "    point_geom=shapely.io.from_wkt(point_coords),\n",
    "    temporal_range=date_range,\n",
    "    coverage_smoothing_strategies=[\n",
    "        CoverageDataSmoothingStrategy.NO_SMOOTHING,\n",
    "        CoverageDataSmoothingStrategy.MOVING_AVERAGE_11_YEARS,\n",
    "        CoverageDataSmoothingStrategy.LOESS_SMOOTHING\n",
    "    ],\n",
    "    observation_smoothing_strategies=[\n",
    "        ObservationDataSmoothingStrategy.NO_SMOOTHING,\n",
    "        ObservationDataSmoothingStrategy.MOVING_AVERAGE_5_YEARS\n",
    "    ],\n",
    "    include_coverage_data=True,\n",
    "    include_observation_data=False,\n",
    "    include_coverage_uncertainty=True,\n",
    "    include_coverage_related_data=True\n",
    ")\n",
    "new_time_end = time.time()\n",
    "print(f\"elapsed: {new_time_end - new_time_start}\")"
   ],
   "id": "1ae59703df47da1e"
  },
  {
   "cell_type": "code",
   "execution_count": 9,
   "id": "63fa30a2-13f9-4157-b3f7-dc131541d3b2",
   "metadata": {},
   "outputs": [
    {
     "data": {
      "text/plain": [
       "[('tas_seasonal_absolute_model_mpi_esm_lr_remo2009-rcp26-DJF', 'NO_SMOOTHING'),\n",
       " ('tas_seasonal_absolute_model_mpi_esm_lr_remo2009-rcp26-DJF',\n",
       "  'MOVING_AVERAGE_11_YEARS'),\n",
       " ('tas_seasonal_absolute_model_mpi_esm_lr_remo2009-rcp26-DJF',\n",
       "  'LOESS_SMOOTHING'),\n",
       " ('tas_seasonal_absolute_model_ec_earth_racmo22e-rcp26-DJF', 'NO_SMOOTHING'),\n",
       " ('tas_seasonal_absolute_model_ec_earth_racmo22e-rcp26-DJF',\n",
       "  'MOVING_AVERAGE_11_YEARS'),\n",
       " ('tas_seasonal_absolute_model_ec_earth_racmo22e-rcp26-DJF',\n",
       "  'LOESS_SMOOTHING'),\n",
       " ('tas_seasonal_absolute_model_ensemble-rcp26-DJF', 'NO_SMOOTHING'),\n",
       " ('tas_seasonal_absolute_model_ensemble-rcp26-DJF', 'MOVING_AVERAGE_11_YEARS'),\n",
       " ('tas_seasonal_absolute_model_ensemble-rcp26-DJF', 'LOESS_SMOOTHING'),\n",
       " ('tas_seasonal_absolute_model_ec_earth_cclm4_8_17-rcp26-DJF', 'NO_SMOOTHING'),\n",
       " ('tas_seasonal_absolute_model_ec_earth_cclm4_8_17-rcp26-DJF',\n",
       "  'MOVING_AVERAGE_11_YEARS'),\n",
       " ('tas_seasonal_absolute_model_ec_earth_cclm4_8_17-rcp26-DJF',\n",
       "  'LOESS_SMOOTHING'),\n",
       " ('tas_seasonal_absolute_model_ec_earth_rca4-rcp26-DJF', 'NO_SMOOTHING'),\n",
       " ('tas_seasonal_absolute_model_ec_earth_rca4-rcp26-DJF',\n",
       "  'MOVING_AVERAGE_11_YEARS'),\n",
       " ('tas_seasonal_absolute_model_ec_earth_rca4-rcp26-DJF', 'LOESS_SMOOTHING'),\n",
       " ('tas_seasonal_absolute_model_hadgem2_es_racmo22e-rcp26-DJF', 'NO_SMOOTHING'),\n",
       " ('tas_seasonal_absolute_model_hadgem2_es_racmo22e-rcp26-DJF',\n",
       "  'MOVING_AVERAGE_11_YEARS'),\n",
       " ('tas_seasonal_absolute_model_hadgem2_es_racmo22e-rcp26-DJF',\n",
       "  'LOESS_SMOOTHING'),\n",
       " ('tas_seasonal_absolute_model_ensemble_lower_uncertainty-rcp26-DJF',\n",
       "  'NO_SMOOTHING'),\n",
       " ('tas_seasonal_absolute_model_ensemble_lower_uncertainty-rcp26-DJF',\n",
       "  'MOVING_AVERAGE_11_YEARS'),\n",
       " ('tas_seasonal_absolute_model_ensemble_lower_uncertainty-rcp26-DJF',\n",
       "  'LOESS_SMOOTHING'),\n",
       " ('tas_seasonal_absolute_model_ensemble_upper_uncertainty-rcp26-DJF',\n",
       "  'NO_SMOOTHING'),\n",
       " ('tas_seasonal_absolute_model_ensemble_upper_uncertainty-rcp26-DJF',\n",
       "  'MOVING_AVERAGE_11_YEARS'),\n",
       " ('tas_seasonal_absolute_model_ensemble_upper_uncertainty-rcp26-DJF',\n",
       "  'LOESS_SMOOTHING')]"
      ]
     },
     "execution_count": 9,
     "metadata": {},
     "output_type": "execute_result"
    }
   ],
   "source": [
    "[(c.identifier, s.value) for c, s in coverage_series.keys()]"
   ]
  },
  {
   "cell_type": "code",
   "execution_count": 12,
   "id": "db9721ac-ac09-4ca7-8329-268a626505e5",
   "metadata": {},
   "outputs": [
    {
     "data": {
      "text/plain": [
       "time\n",
       "1976-02-15 12:00:00+00:00           2.954980\n",
       "1977-02-14 17:54:11.613000+00:00    3.255182\n",
       "1978-02-14 23:48:23.226000+00:00    2.340784\n",
       "1979-02-15 05:42:34.839000+00:00    4.659448\n",
       "1980-02-15 11:36:46.452000+00:00    3.844202\n",
       "                                      ...   \n",
       "2096-02-15 00:23:13.548000+00:00    4.219568\n",
       "2097-02-14 06:17:25.161000+00:00    5.275751\n",
       "2098-02-14 12:11:36.774000+00:00    4.540552\n",
       "2099-02-14 18:05:48.387000+00:00    4.133020\n",
       "2100-02-15 00:00:00+00:00           4.696100\n",
       "Name: tas_seasonal_absolute_model_mpi_esm_lr_remo2009-rcp26-DJF, Length: 125, dtype: float64"
      ]
     },
     "execution_count": 12,
     "metadata": {},
     "output_type": "execute_result"
    }
   ],
   "source": [
    "next(iter(coverage_series.values()))"
   ]
  },
  {
   "cell_type": "code",
   "execution_count": 3,
   "id": "d9404e4b-d2fc-4587-94f9-df8388313f66",
   "metadata": {},
   "outputs": [
    {
     "data": {
      "text/plain": [
       "{'scenario': 'rcp26'}"
      ]
     },
     "execution_count": 3,
     "metadata": {},
     "output_type": "execute_result"
    }
   ],
   "source": "cov.configuration.retrieve_configuration_parameters(coverage_identifier)"
  },
  {
   "cell_type": "code",
   "execution_count": 8,
   "id": "80632d8c-3174-4ef8-a9a8-0d2479599f55",
   "metadata": {},
   "outputs": [
    {
     "data": {
      "text/plain": [
       "{'scenario': 'rcp26'}"
      ]
     },
     "execution_count": 8,
     "metadata": {},
     "output_type": "execute_result"
    }
   ],
   "source": "{pv.configuration_parameter_value.configuration_parameter.name: pv.configuration_parameter_value.name for pv in cov.configuration.retrieve_used_values(coverage_identifier)}"
  },
  {
   "cell_type": "code",
   "execution_count": 12,
   "id": "1cfd78d0-3ed1-47b1-8f51-074adb0c0bc9",
   "metadata": {},
   "outputs": [
    {
     "data": {
      "text/plain": [
       "{'scenario': 'Scenario'}"
      ]
     },
     "execution_count": 12,
     "metadata": {},
     "output_type": "execute_result"
    }
   ],
   "source": [
    "{\n",
    "    pv.configuration_parameter_value.configuration_parameter.name: pv.configuration_parameter_value.configuration_parameter.display_name_english \n",
    "    for pv in cov.configuration.retrieve_used_values(coverage_identifier)\n",
    "}"
   ]
  }
 ],
 "metadata": {
  "kernelspec": {
   "display_name": "Python 3 (ipykernel)",
   "language": "python",
   "name": "python3"
  },
  "language_info": {
   "codemirror_mode": {
    "name": "ipython",
    "version": 3
   },
   "file_extension": ".py",
   "mimetype": "text/x-python",
   "name": "python",
   "nbconvert_exporter": "python",
   "pygments_lexer": "ipython3",
   "version": "3.10.8"
  }
 },
 "nbformat": 4,
 "nbformat_minor": 5
}
