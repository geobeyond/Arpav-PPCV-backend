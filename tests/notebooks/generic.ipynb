{
 "cells": [
  {
   "cell_type": "code",
   "execution_count": 1,
   "id": "dbcc00b1-2fc1-43ff-9549-ebca8cf03262",
   "metadata": {},
   "outputs": [],
   "source": [
    "%matplotlib widget\n",
    "\n",
    "import logging\n",
    "import time\n",
    "\n",
    "import cftime\n",
    "import httpx\n",
    "import matplotlib.pyplot as plt\n",
    "import netCDF4\n",
    "import pandas as pd\n",
    "import shapely.io\n",
    "import sqlmodel\n",
    "from sqlalchemy import (\n",
    "    bindparam, \n",
    "    func\n",
    ")\n",
    "\n",
    "from arpav_ppcv import (\n",
    "    database as db,\n",
    "    operations,\n",
    ")\n",
    "from arpav_ppcv.config import get_settings\n",
    "from arpav_ppcv.schemas.base import (\n",
    "    CoverageDataSmoothingStrategy,\n",
    "    ObservationDataSmoothingStrategy,\n",
    "    ObservationAggregationType,\n",
    "    Season,\n",
    ")\n",
    "from arpav_ppcv.schemas import coverages\n",
    "from arpav_ppcv.schemas.coverages import CoverageInternal\n",
    "from arpav_ppcv.schemas import observations\n",
    "\n",
    "logging.basicConfig(level=logging.DEBUG)\n",
    "logging.getLogger(\"httpx\").setLevel(logging.WARNING)\n",
    "logging.getLogger(\"httpcore\").setLevel(logging.WARNING)\n",
    "logging.getLogger(\"matplotlib\").setLevel(logging.WARNING)\n",
    "\n",
    "settings = get_settings()\n",
    "session = sqlmodel.Session(db.get_engine(settings))\n",
    "http_client = httpx.Client()"
   ]
  },
  {
   "cell_type": "code",
   "execution_count": 2,
   "id": "3375193e-2a62-4ff6-8e7d-1564299cb30c",
   "metadata": {},
   "outputs": [],
   "source": [
    "all_covs = db.collect_all_coverages(session)"
   ]
  },
  {
   "cell_type": "code",
   "execution_count": 3,
   "id": "49d2ce04-482d-464e-8952-203411b95efc",
   "metadata": {},
   "outputs": [],
   "source": [
    "annual_winter_tdd_covs = db.collect_all_coverages(\n",
    "    session, \n",
    "    configuration_parameter_values_filter=[\n",
    "        db.get_configuration_parameter_value_by_names(session, \"historical_variable\", \"tdd\"),\n",
    "        db.get_configuration_parameter_value_by_names(session, \"aggregation_period\", \"annual\"),\n",
    "        db.get_configuration_parameter_value_by_names(session, \"observation_year_period\", \"winter\")\n",
    "    ]\n",
    ")"
   ]
  },
  {
   "cell_type": "code",
   "execution_count": 4,
   "id": "f1a6cac5-d5a4-44d1-bda9-de032f47a1fb",
   "metadata": {},
   "outputs": [
    {
     "data": {
      "text/plain": [
       "['tdd_annual_seasonal-annual-historical-tdd-absolute-winter']"
      ]
     },
     "execution_count": 4,
     "metadata": {},
     "output_type": "execute_result"
    }
   ],
   "source": [
    "[cov.identifier for cov in annual_winter_tdd_covs]"
   ]
  },
  {
   "cell_type": "code",
   "execution_count": 9,
   "id": "839244fc-728f-47b3-9a72-a1011b87b38a",
   "metadata": {},
   "outputs": [],
   "source": [
    "cov = db.get_coverage(session, \"tdd_annual_seasonal-annual-historical-tdd-absolute-winter\")"
   ]
  },
  {
   "cell_type": "code",
   "execution_count": 10,
   "id": "c858f2e6-2ec5-4256-ba40-6ab4b13220d0",
   "metadata": {},
   "outputs": [
    {
     "data": {
      "text/plain": [
       "'{name}-{aggregation_period}-{archive}-{historical_variable}-{measure}-{observation_year_period}'"
      ]
     },
     "execution_count": 10,
     "metadata": {},
     "output_type": "execute_result"
    }
   ],
   "source": [
    "cov.configuration.coverage_id_pattern"
   ]
  },
  {
   "cell_type": "code",
   "execution_count": 11,
   "id": "b3cdcb69-b927-4626-b272-990e613dc69f",
   "metadata": {},
   "outputs": [
    {
     "data": {
      "text/plain": [
       "'cline_yr/TDd_S01_*.nc'"
      ]
     },
     "execution_count": 11,
     "metadata": {},
     "output_type": "execute_result"
    }
   ],
   "source": [
    "cov.configuration.get_thredds_url_fragment(cov.identifier)"
   ]
  }
 ],
 "metadata": {
  "kernelspec": {
   "display_name": "Python 3 (ipykernel)",
   "language": "python",
   "name": "python3"
  },
  "language_info": {
   "codemirror_mode": {
    "name": "ipython",
    "version": 3
   },
   "file_extension": ".py",
   "mimetype": "text/x-python",
   "name": "python",
   "nbconvert_exporter": "python",
   "pygments_lexer": "ipython3",
   "version": "3.10.14"
  }
 },
 "nbformat": 4,
 "nbformat_minor": 5
}
