{
 "cells": [
  {
   "cell_type": "code",
   "execution_count": 1,
   "id": "dbcc00b1-2fc1-43ff-9549-ebca8cf03262",
   "metadata": {},
   "outputs": [],
   "source": [
    "%matplotlib widget\n",
    "\n",
    "import logging\n",
    "\n",
    "import cftime\n",
    "import httpx\n",
    "import matplotlib.pyplot as plt\n",
    "import netCDF4\n",
    "import pandas as pd\n",
    "import shapely.io\n",
    "import sqlmodel\n",
    "from loess.loess_1d import loess_1d\n",
    "\n",
    "from arpav_ppcv import (\n",
    "    database as db,\n",
    "    operations,\n",
    ")\n",
    "from arpav_ppcv.config import get_settings\n",
    "from arpav_ppcv.schemas.base import (\n",
    "    CoverageDataSmoothingStrategy,\n",
    "    ObservationDataSmoothingStrategy,\n",
    "    ObservationAggregationType,\n",
    "    Season,\n",
    ")\n",
    "from arpav_ppcv.schemas.coverages import CoverageInternal\n",
    "\n",
    "logging.basicConfig(level=logging.DEBUG)\n",
    "logging.getLogger(\"httpx\").setLevel(logging.WARNING)\n",
    "logging.getLogger(\"httpcore\").setLevel(logging.WARNING)\n",
    "logging.getLogger(\"matplotlib\").setLevel(logging.WARNING)\n",
    "\n",
    "settings = get_settings()\n",
    "session = sqlmodel.Session(db.get_engine(settings))\n",
    "http_client = httpx.Client()"
   ]
  },
  {
   "cell_type": "code",
   "execution_count": 2,
   "id": "c65166b7-4173-444c-be69-688ff5f6b874",
   "metadata": {},
   "outputs": [],
   "source": [
    "cov = CoverageInternal(configuration=db.get_coverage_configuration_by_name(session, \"tas_barometro_climatico\"), identifier=\"tas_barometro_climatico-rcp26\")"
   ]
  },
  {
   "cell_type": "code",
   "execution_count": 3,
   "id": "ac6f4411-f4ba-46c8-8e9e-3b6dce98a55b",
   "metadata": {},
   "outputs": [],
   "source": [
    "df = operations.get_climate_barometer_time_series(settings, cov)"
   ]
  },
  {
   "cell_type": "code",
   "execution_count": 4,
   "id": "a5e0a408-969a-46d9-9684-d8bd718e5284",
   "metadata": {},
   "outputs": [
    {
     "name": "stdout",
     "output_type": "stream",
     "text": [
      "<class 'pandas.core.frame.DataFrame'>\n",
      "DatetimeIndex: 124 entries, NaT to NaT\n",
      "Empty DataFrame\n"
     ]
    }
   ],
   "source": [
    "df.info()"
   ]
  },
  {
   "cell_type": "code",
   "execution_count": 5,
   "id": "b7c5b994-45d0-4350-9a0c-02c5cf1ed4b1",
   "metadata": {},
   "outputs": [
    {
     "data": {
      "text/plain": [
       "Index([], dtype='object')"
      ]
     },
     "execution_count": 5,
     "metadata": {},
     "output_type": "execute_result"
    }
   ],
   "source": [
    "df.columns"
   ]
  },
  {
   "cell_type": "code",
   "execution_count": 6,
   "id": "621d9c03-c3a6-4b9d-8eaa-c7080393abb3",
   "metadata": {},
   "outputs": [],
   "source": [
    "opendap_url = \"/\".join((\n",
    "    settings.thredds_server.base_url, \n",
    "    settings.thredds_server.opendap_service_url_fragment, \n",
    "    cov.configuration.get_thredds_url_fragment(cov.identifier)\n",
    "))"
   ]
  },
  {
   "cell_type": "code",
   "execution_count": 7,
   "id": "b0c44800-1c12-4f09-9d0b-0dd302f0daf2",
   "metadata": {},
   "outputs": [
    {
     "data": {
      "text/plain": [
       "'http://thredds:8080/thredds/dodsC/ensymbc/std/clipped/fldmean/tas_avg_rcp26_ts19762100_ls_VFVG_fldmean.nc'"
      ]
     },
     "execution_count": 7,
     "metadata": {},
     "output_type": "execute_result"
    }
   ],
   "source": [
    "opendap_url"
   ]
  },
  {
   "cell_type": "code",
   "execution_count": 8,
   "id": "1db99f2a-76ea-48c6-9437-fd9a5631b5c0",
   "metadata": {},
   "outputs": [],
   "source": [
    "ds = netCDF4.Dataset(opendap_url)"
   ]
  },
  {
   "cell_type": "code",
   "execution_count": 22,
   "id": "53f2e98a-03de-4ff1-acd6-c0c76c48e33d",
   "metadata": {},
   "outputs": [
    {
     "ename": "AttributeError",
     "evalue": "'MaskedArray' object has no attribute 'to_datetimeindex'",
     "output_type": "error",
     "traceback": [
      "\u001B[0;31m---------------------------------------------------------------------------\u001B[0m",
      "\u001B[0;31mAttributeError\u001B[0m                            Traceback (most recent call last)",
      "Cell \u001B[0;32mIn[22], line 7\u001B[0m\n\u001B[1;32m      1\u001B[0m \u001B[43mcftime\u001B[49m\u001B[38;5;241;43m.\u001B[39;49m\u001B[43mnum2pydate\u001B[49m\u001B[43m(\u001B[49m\n\u001B[1;32m      2\u001B[0m \u001B[43m    \u001B[49m\u001B[43mds\u001B[49m\u001B[38;5;241;43m.\u001B[39;49m\u001B[43mvariables\u001B[49m\u001B[43m[\u001B[49m\u001B[38;5;124;43m\"\u001B[39;49m\u001B[38;5;124;43mtime\u001B[39;49m\u001B[38;5;124;43m\"\u001B[39;49m\u001B[43m]\u001B[49m\u001B[43m[\u001B[49m\u001B[43m:\u001B[49m\u001B[43m]\u001B[49m\u001B[43m,\u001B[49m\u001B[43m \u001B[49m\n\u001B[1;32m      3\u001B[0m \u001B[43m    \u001B[49m\u001B[43munits\u001B[49m\u001B[38;5;241;43m=\u001B[39;49m\u001B[43mds\u001B[49m\u001B[38;5;241;43m.\u001B[39;49m\u001B[43mvariables\u001B[49m\u001B[43m[\u001B[49m\u001B[38;5;124;43m\"\u001B[39;49m\u001B[38;5;124;43mtime\u001B[39;49m\u001B[38;5;124;43m\"\u001B[39;49m\u001B[43m]\u001B[49m\u001B[38;5;241;43m.\u001B[39;49m\u001B[43munits\u001B[49m\u001B[43m,\u001B[49m\u001B[43m \u001B[49m\n\u001B[1;32m      4\u001B[0m \u001B[43m    \u001B[49m\u001B[43mcalendar\u001B[49m\u001B[38;5;241;43m=\u001B[39;49m\u001B[43mds\u001B[49m\u001B[38;5;241;43m.\u001B[39;49m\u001B[43mvariables\u001B[49m\u001B[43m[\u001B[49m\u001B[38;5;124;43m\"\u001B[39;49m\u001B[38;5;124;43mtime\u001B[39;49m\u001B[38;5;124;43m\"\u001B[39;49m\u001B[43m]\u001B[49m\u001B[38;5;241;43m.\u001B[39;49m\u001B[43mcalendar\u001B[49m\u001B[43m,\u001B[49m\u001B[43m \u001B[49m\n\u001B[1;32m      5\u001B[0m \u001B[43m    \u001B[49m\u001B[38;5;66;43;03m#only_use_cftime_datetimes=False, \u001B[39;49;00m\n\u001B[1;32m      6\u001B[0m \u001B[43m    \u001B[49m\u001B[38;5;66;43;03m# only_use_python_datetimes=True\u001B[39;49;00m\n\u001B[0;32m----> 7\u001B[0m \u001B[43m)\u001B[49m\u001B[38;5;241;43m.\u001B[39;49m\u001B[43mto_datetimeindex\u001B[49m()\n",
      "\u001B[0;31mAttributeError\u001B[0m: 'MaskedArray' object has no attribute 'to_datetimeindex'"
     ]
    }
   ],
   "source": [
    "cftime.num2pydate(\n",
    "    ds.variables[\"time\"][:], \n",
    "    units=ds.variables[\"time\"].units, \n",
    "    calendar=ds.variables[\"time\"].calendar, \n",
    "    #only_use_cftime_datetimes=False, \n",
    "    # only_use_python_datetimes=True\n",
    ").to_datetimeindex()"
   ]
  },
  {
   "cell_type": "code",
   "execution_count": 11,
   "id": "59e5872b-85dc-41a5-9330-4272e2eea901",
   "metadata": {},
   "outputs": [
    {
     "data": {
      "text/html": [
       "<div>\n",
       "<style scoped>\n",
       "    .dataframe tbody tr th:only-of-type {\n",
       "        vertical-align: middle;\n",
       "    }\n",
       "\n",
       "    .dataframe tbody tr th {\n",
       "        vertical-align: top;\n",
       "    }\n",
       "\n",
       "    .dataframe thead th {\n",
       "        text-align: right;\n",
       "    }\n",
       "</style>\n",
       "<table border=\"1\" class=\"dataframe\">\n",
       "  <thead>\n",
       "    <tr style=\"text-align: right;\">\n",
       "      <th></th>\n",
       "      <th>time</th>\n",
       "    </tr>\n",
       "    <tr>\n",
       "      <th>tas_barometro_climatico-rcp26</th>\n",
       "      <th></th>\n",
       "    </tr>\n",
       "  </thead>\n",
       "  <tbody>\n",
       "    <tr>\n",
       "      <th>10.947353</th>\n",
       "      <td>NaT</td>\n",
       "    </tr>\n",
       "    <tr>\n",
       "      <th>10.956053</th>\n",
       "      <td>NaT</td>\n",
       "    </tr>\n",
       "    <tr>\n",
       "      <th>11.216602</th>\n",
       "      <td>NaT</td>\n",
       "    </tr>\n",
       "    <tr>\n",
       "      <th>11.034557</th>\n",
       "      <td>NaT</td>\n",
       "    </tr>\n",
       "    <tr>\n",
       "      <th>10.855161</th>\n",
       "      <td>NaT</td>\n",
       "    </tr>\n",
       "    <tr>\n",
       "      <th>...</th>\n",
       "      <td>...</td>\n",
       "    </tr>\n",
       "    <tr>\n",
       "      <th>12.250976</th>\n",
       "      <td>NaT</td>\n",
       "    </tr>\n",
       "    <tr>\n",
       "      <th>12.219064</th>\n",
       "      <td>NaT</td>\n",
       "    </tr>\n",
       "    <tr>\n",
       "      <th>12.196585</th>\n",
       "      <td>NaT</td>\n",
       "    </tr>\n",
       "    <tr>\n",
       "      <th>12.432362</th>\n",
       "      <td>NaT</td>\n",
       "    </tr>\n",
       "    <tr>\n",
       "      <th>12.887205</th>\n",
       "      <td>NaT</td>\n",
       "    </tr>\n",
       "  </tbody>\n",
       "</table>\n",
       "<p>124 rows × 1 columns</p>\n",
       "</div>"
      ],
      "text/plain": [
       "                              time\n",
       "tas_barometro_climatico-rcp26     \n",
       "10.947353                      NaT\n",
       "10.956053                      NaT\n",
       "11.216602                      NaT\n",
       "11.034557                      NaT\n",
       "10.855161                      NaT\n",
       "...                            ...\n",
       "12.250976                      NaT\n",
       "12.219064                      NaT\n",
       "12.196585                      NaT\n",
       "12.432362                      NaT\n",
       "12.887205                      NaT\n",
       "\n",
       "[124 rows x 1 columns]"
      ]
     },
     "execution_count": 11,
     "metadata": {},
     "output_type": "execute_result"
    }
   ],
   "source": [
    "pd.DataFrame(\n",
    "    pd.Series(\n",
    "        cftime.num2date(\n",
    "            ds.variables[\"time\"][:],\n",
    "            units=ds.variables[\"time\"].units,\n",
    "            calendar=ds.variables[\"time\"].calendar,\n",
    "            only_use_cftime_datetimes=False,\n",
    "            only_use_python_datetimes=True),\n",
    "        name=\"time\"\n",
    "    ),\n",
    "    pd.Series(\n",
    "        ds.variables[cov.configuration.netcdf_main_dataset_name][:].ravel(), \n",
    "        name=cov.identifier\n",
    "    )\n",
    ")"
   ]
  },
  {
   "cell_type": "code",
   "execution_count": 9,
   "id": "d00726cb-260c-4bda-ba45-fef1295b4d6a",
   "metadata": {},
   "outputs": [],
   "source": [
    "import cftime"
   ]
  },
  {
   "cell_type": "code",
   "execution_count": 24,
   "id": "0d4bac70-806d-4baa-8652-b793b45f960b",
   "metadata": {},
   "outputs": [
    {
     "ename": "ValueError",
     "evalue": "Data must be 1-dimensional",
     "output_type": "error",
     "traceback": [
      "\u001B[0;31m---------------------------------------------------------------------------\u001B[0m",
      "\u001B[0;31mValueError\u001B[0m                                Traceback (most recent call last)",
      "Cell \u001B[0;32mIn[24], line 1\u001B[0m\n\u001B[0;32m----> 1\u001B[0m \u001B[43mpd\u001B[49m\u001B[38;5;241;43m.\u001B[39;49m\u001B[43mSeries\u001B[49m\u001B[43m(\u001B[49m\u001B[43mds\u001B[49m\u001B[38;5;241;43m.\u001B[39;49m\u001B[43mvariables\u001B[49m\u001B[43m[\u001B[49m\u001B[43mcov\u001B[49m\u001B[38;5;241;43m.\u001B[39;49m\u001B[43mconfiguration\u001B[49m\u001B[38;5;241;43m.\u001B[39;49m\u001B[43mnetcdf_main_dataset_name\u001B[49m\u001B[43m]\u001B[49m\u001B[43m[\u001B[49m\u001B[43m:\u001B[49m\u001B[43m]\u001B[49m\u001B[43m,\u001B[49m\u001B[43m \u001B[49m\u001B[43mname\u001B[49m\u001B[38;5;241;43m=\u001B[39;49m\u001B[43mcov\u001B[49m\u001B[38;5;241;43m.\u001B[39;49m\u001B[43midentifier\u001B[49m\u001B[43m)\u001B[49m\n",
      "File \u001B[0;32m~/.cache/pypoetry/virtualenvs/arpav-ppcv-backend-f8CPI8sp-py3.10/lib/python3.10/site-packages/pandas/core/series.py:471\u001B[0m, in \u001B[0;36mSeries.__init__\u001B[0;34m(self, data, index, dtype, name, copy, fastpath)\u001B[0m\n\u001B[1;32m    469\u001B[0m         data \u001B[38;5;241m=\u001B[39m data\u001B[38;5;241m.\u001B[39mcopy()\n\u001B[1;32m    470\u001B[0m \u001B[38;5;28;01melse\u001B[39;00m:\n\u001B[0;32m--> 471\u001B[0m     data \u001B[38;5;241m=\u001B[39m \u001B[43msanitize_array\u001B[49m\u001B[43m(\u001B[49m\u001B[43mdata\u001B[49m\u001B[43m,\u001B[49m\u001B[43m \u001B[49m\u001B[43mindex\u001B[49m\u001B[43m,\u001B[49m\u001B[43m \u001B[49m\u001B[43mdtype\u001B[49m\u001B[43m,\u001B[49m\u001B[43m \u001B[49m\u001B[43mcopy\u001B[49m\u001B[43m)\u001B[49m\n\u001B[1;32m    473\u001B[0m     manager \u001B[38;5;241m=\u001B[39m get_option(\u001B[38;5;124m\"\u001B[39m\u001B[38;5;124mmode.data_manager\u001B[39m\u001B[38;5;124m\"\u001B[39m)\n\u001B[1;32m    474\u001B[0m     \u001B[38;5;28;01mif\u001B[39;00m manager \u001B[38;5;241m==\u001B[39m \u001B[38;5;124m\"\u001B[39m\u001B[38;5;124mblock\u001B[39m\u001B[38;5;124m\"\u001B[39m:\n",
      "File \u001B[0;32m~/.cache/pypoetry/virtualenvs/arpav-ppcv-backend-f8CPI8sp-py3.10/lib/python3.10/site-packages/pandas/core/construction.py:648\u001B[0m, in \u001B[0;36msanitize_array\u001B[0;34m(data, index, dtype, copy, raise_cast_failure, allow_2d)\u001B[0m\n\u001B[1;32m    645\u001B[0m             subarr \u001B[38;5;241m=\u001B[39m cast(np\u001B[38;5;241m.\u001B[39mndarray, subarr)\n\u001B[1;32m    646\u001B[0m             subarr \u001B[38;5;241m=\u001B[39m maybe_infer_to_datetimelike(subarr)\n\u001B[0;32m--> 648\u001B[0m subarr \u001B[38;5;241m=\u001B[39m \u001B[43m_sanitize_ndim\u001B[49m\u001B[43m(\u001B[49m\u001B[43msubarr\u001B[49m\u001B[43m,\u001B[49m\u001B[43m \u001B[49m\u001B[43mdata\u001B[49m\u001B[43m,\u001B[49m\u001B[43m \u001B[49m\u001B[43mdtype\u001B[49m\u001B[43m,\u001B[49m\u001B[43m \u001B[49m\u001B[43mindex\u001B[49m\u001B[43m,\u001B[49m\u001B[43m \u001B[49m\u001B[43mallow_2d\u001B[49m\u001B[38;5;241;43m=\u001B[39;49m\u001B[43mallow_2d\u001B[49m\u001B[43m)\u001B[49m\n\u001B[1;32m    650\u001B[0m \u001B[38;5;28;01mif\u001B[39;00m \u001B[38;5;28misinstance\u001B[39m(subarr, np\u001B[38;5;241m.\u001B[39mndarray):\n\u001B[1;32m    651\u001B[0m     \u001B[38;5;66;03m# at this point we should have dtype be None or subarr.dtype == dtype\u001B[39;00m\n\u001B[1;32m    652\u001B[0m     dtype \u001B[38;5;241m=\u001B[39m cast(np\u001B[38;5;241m.\u001B[39mdtype, dtype)\n",
      "File \u001B[0;32m~/.cache/pypoetry/virtualenvs/arpav-ppcv-backend-f8CPI8sp-py3.10/lib/python3.10/site-packages/pandas/core/construction.py:699\u001B[0m, in \u001B[0;36m_sanitize_ndim\u001B[0;34m(result, data, dtype, index, allow_2d)\u001B[0m\n\u001B[1;32m    697\u001B[0m     \u001B[38;5;28;01mif\u001B[39;00m allow_2d:\n\u001B[1;32m    698\u001B[0m         \u001B[38;5;28;01mreturn\u001B[39;00m result\n\u001B[0;32m--> 699\u001B[0m     \u001B[38;5;28;01mraise\u001B[39;00m \u001B[38;5;167;01mValueError\u001B[39;00m(\u001B[38;5;124m\"\u001B[39m\u001B[38;5;124mData must be 1-dimensional\u001B[39m\u001B[38;5;124m\"\u001B[39m)\n\u001B[1;32m    700\u001B[0m \u001B[38;5;28;01mif\u001B[39;00m is_object_dtype(dtype) \u001B[38;5;129;01mand\u001B[39;00m \u001B[38;5;28misinstance\u001B[39m(dtype, ExtensionDtype):\n\u001B[1;32m    701\u001B[0m     \u001B[38;5;66;03m# i.e. PandasDtype(\"O\")\u001B[39;00m\n\u001B[1;32m    703\u001B[0m     result \u001B[38;5;241m=\u001B[39m com\u001B[38;5;241m.\u001B[39masarray_tuplesafe(data, dtype\u001B[38;5;241m=\u001B[39mnp\u001B[38;5;241m.\u001B[39mdtype(\u001B[38;5;124m\"\u001B[39m\u001B[38;5;124mobject\u001B[39m\u001B[38;5;124m\"\u001B[39m))\n",
      "\u001B[0;31mValueError\u001B[0m: Data must be 1-dimensional"
     ]
    }
   ],
   "source": [
    "pd.Series(ds.variables[cov.configuration.netcdf_main_dataset_name][:], name=cov.identifier)"
   ]
  }
 ],
 "metadata": {
  "kernelspec": {
   "display_name": "Python 3 (ipykernel)",
   "language": "python",
   "name": "python3"
  },
  "language_info": {
   "codemirror_mode": {
    "name": "ipython",
    "version": 3
   },
   "file_extension": ".py",
   "mimetype": "text/x-python",
   "name": "python",
   "nbconvert_exporter": "python",
   "pygments_lexer": "ipython3",
   "version": "3.10.8"
  }
 },
 "nbformat": 4,
 "nbformat_minor": 5
}
