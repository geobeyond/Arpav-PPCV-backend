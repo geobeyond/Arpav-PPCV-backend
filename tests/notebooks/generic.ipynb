{
 "cells": [
  {
   "cell_type": "code",
   "execution_count": 1,
   "id": "dbcc00b1-2fc1-43ff-9549-ebca8cf03262",
   "metadata": {},
   "outputs": [],
   "source": [
    "%matplotlib widget\n",
    "\n",
    "import logging\n",
    "import time\n",
    "\n",
    "import cftime\n",
    "import httpx\n",
    "import matplotlib.pyplot as plt\n",
    "import netCDF4\n",
    "import pandas as pd\n",
    "import shapely.io\n",
    "import sqlmodel\n",
    "from loess.loess_1d import loess_1d\n",
    "\n",
    "from arpav_ppcv import (\n",
    "    database as db,\n",
    "    operations,\n",
    ")\n",
    "from arpav_ppcv.config import get_settings\n",
    "from arpav_ppcv.schemas.base import (\n",
    "    CoverageDataSmoothingStrategy,\n",
    "    ObservationDataSmoothingStrategy,\n",
    "    ObservationAggregationType,\n",
    "    Season,\n",
    ")\n",
    "from arpav_ppcv.schemas.coverages import CoverageInternal\n",
    "\n",
    "logging.basicConfig(level=logging.DEBUG)\n",
    "logging.getLogger(\"httpx\").setLevel(logging.WARNING)\n",
    "logging.getLogger(\"httpcore\").setLevel(logging.WARNING)\n",
    "logging.getLogger(\"matplotlib\").setLevel(logging.WARNING)\n",
    "\n",
    "settings = get_settings()\n",
    "session = sqlmodel.Session(db.get_engine(settings))\n",
    "http_client = httpx.Client()"
   ]
  },
  {
   "cell_type": "code",
   "execution_count": 2,
   "id": "c65166b7-4173-444c-be69-688ff5f6b874",
   "metadata": {},
   "outputs": [],
   "source": [
    "coverage_identifier = \"tas_seasonal_absolute_model_ensemble-rcp26-DJF\"\n",
    "point_coords = \"POINT(11.5469 44.9524)\"\n",
    "date_range = \"../..\"\n",
    "\n",
    "cov = CoverageInternal(\n",
    "    configuration=db.get_coverage_configuration_by_coverage_identifier(session, coverage_identifier), \n",
    "    identifier=coverage_identifier\n",
    ")"
   ]
  },
  {
   "cell_type": "code",
   "execution_count": 3,
   "id": "4ac51747-ee8e-468a-a791-5f815b80286a",
   "metadata": {},
   "outputs": [],
   "source": [
    "settings.debug = False"
   ]
  },
  {
   "cell_type": "code",
   "execution_count": 4,
   "id": "93c28235-3793-4b3b-acd0-c00a56252cdf",
   "metadata": {
    "scrolled": true
   },
   "outputs": [
    {
     "name": "stderr",
     "output_type": "stream",
     "text": [
      "DEBUG:asyncio:Using selector: EpollSelector\n"
     ]
    },
    {
     "name": "stdout",
     "output_type": "stream",
     "text": [
      "elapsed: 0.49170613288879395\n"
     ]
    }
   ],
   "source": [
    "new_time_start = time.time()\n",
    "coverage_series, observation_series = operations.get_coverage_time_series(\n",
    "    settings=settings,\n",
    "    session=session,\n",
    "    http_client=httpx.AsyncClient(),\n",
    "    coverage=cov,\n",
    "    point_geom=shapely.io.from_wkt(point_coords),\n",
    "    temporal_range=date_range,\n",
    "    coverage_smoothing_strategies=[\n",
    "        CoverageDataSmoothingStrategy.NO_SMOOTHING,\n",
    "        CoverageDataSmoothingStrategy.MOVING_AVERAGE_11_YEARS,\n",
    "        CoverageDataSmoothingStrategy.LOESS_SMOOTHING\n",
    "    ],\n",
    "    observation_smoothing_strategies=[\n",
    "        ObservationDataSmoothingStrategy.NO_SMOOTHING,\n",
    "        ObservationDataSmoothingStrategy.MOVING_AVERAGE_5_YEARS\n",
    "    ],\n",
    "    include_coverage_data=True,\n",
    "    include_observation_data=False,\n",
    "    include_coverage_uncertainty=True,\n",
    "    include_coverage_related_data=True\n",
    ")\n",
    "new_time_end = time.time()\n",
    "print(f\"elapsed: {new_time_end - new_time_start}\")"
   ]
  },
  {
   "cell_type": "code",
   "execution_count": 5,
   "id": "63fa30a2-13f9-4157-b3f7-dc131541d3b2",
   "metadata": {},
   "outputs": [
    {
     "data": {
      "text/plain": [
       "[('tas_seasonal_absolute_model_ec_earth_cclm4_8_17-rcp26-DJF', 'NO_SMOOTHING'),\n",
       " ('tas_seasonal_absolute_model_ec_earth_cclm4_8_17-rcp26-DJF',\n",
       "  'MOVING_AVERAGE_11_YEARS'),\n",
       " ('tas_seasonal_absolute_model_ec_earth_cclm4_8_17-rcp26-DJF',\n",
       "  'LOESS_SMOOTHING'),\n",
       " ('tas_seasonal_absolute_model_ensemble-rcp26-DJF', 'NO_SMOOTHING'),\n",
       " ('tas_seasonal_absolute_model_ensemble-rcp26-DJF', 'MOVING_AVERAGE_11_YEARS'),\n",
       " ('tas_seasonal_absolute_model_ensemble-rcp26-DJF', 'LOESS_SMOOTHING'),\n",
       " ('tas_seasonal_absolute_model_ec_earth_racmo22e-rcp26-DJF', 'NO_SMOOTHING'),\n",
       " ('tas_seasonal_absolute_model_ec_earth_racmo22e-rcp26-DJF',\n",
       "  'MOVING_AVERAGE_11_YEARS'),\n",
       " ('tas_seasonal_absolute_model_ec_earth_racmo22e-rcp26-DJF',\n",
       "  'LOESS_SMOOTHING'),\n",
       " ('tas_seasonal_absolute_model_ec_earth_rca4-rcp26-DJF', 'NO_SMOOTHING'),\n",
       " ('tas_seasonal_absolute_model_ec_earth_rca4-rcp26-DJF',\n",
       "  'MOVING_AVERAGE_11_YEARS'),\n",
       " ('tas_seasonal_absolute_model_ec_earth_rca4-rcp26-DJF', 'LOESS_SMOOTHING'),\n",
       " ('tas_seasonal_absolute_model_ensemble_upper_uncertainty-rcp26-DJF',\n",
       "  'NO_SMOOTHING'),\n",
       " ('tas_seasonal_absolute_model_ensemble_upper_uncertainty-rcp26-DJF',\n",
       "  'MOVING_AVERAGE_11_YEARS'),\n",
       " ('tas_seasonal_absolute_model_ensemble_upper_uncertainty-rcp26-DJF',\n",
       "  'LOESS_SMOOTHING'),\n",
       " ('tas_seasonal_absolute_model_mpi_esm_lr_remo2009-rcp26-DJF', 'NO_SMOOTHING'),\n",
       " ('tas_seasonal_absolute_model_mpi_esm_lr_remo2009-rcp26-DJF',\n",
       "  'MOVING_AVERAGE_11_YEARS'),\n",
       " ('tas_seasonal_absolute_model_mpi_esm_lr_remo2009-rcp26-DJF',\n",
       "  'LOESS_SMOOTHING'),\n",
       " ('tas_seasonal_absolute_model_hadgem2_es_racmo22e-rcp26-DJF', 'NO_SMOOTHING'),\n",
       " ('tas_seasonal_absolute_model_hadgem2_es_racmo22e-rcp26-DJF',\n",
       "  'MOVING_AVERAGE_11_YEARS'),\n",
       " ('tas_seasonal_absolute_model_hadgem2_es_racmo22e-rcp26-DJF',\n",
       "  'LOESS_SMOOTHING'),\n",
       " ('tas_seasonal_absolute_model_ensemble_lower_uncertainty-rcp26-DJF',\n",
       "  'NO_SMOOTHING'),\n",
       " ('tas_seasonal_absolute_model_ensemble_lower_uncertainty-rcp26-DJF',\n",
       "  'MOVING_AVERAGE_11_YEARS'),\n",
       " ('tas_seasonal_absolute_model_ensemble_lower_uncertainty-rcp26-DJF',\n",
       "  'LOESS_SMOOTHING')]"
      ]
     },
     "execution_count": 5,
     "metadata": {},
     "output_type": "execute_result"
    }
   ],
   "source": [
    "[(c.identifier, s.value) for c, s in coverage_series.keys()]"
   ]
  },
  {
   "cell_type": "code",
   "execution_count": 5,
   "id": "b3811df1-eb09-45eb-8bd6-e85286007a66",
   "metadata": {},
   "outputs": [],
   "source": [
    "raw_data = await operations.retrieve_multiple_ncss_datasets(\n",
    "    settings, \n",
    "    httpx.AsyncClient(), \n",
    "    [\n",
    "        CoverageInternal(\n",
    "            identifier=coverage_identifier, \n",
    "            configuration=db.get_coverage_configuration_by_coverage_identifier(\n",
    "                session, coverage_identifier)\n",
    "        ),\n",
    "    ],\n",
    "    shapely.io.from_wkt(point_coords),\n",
    "    (None, None)\n",
    ")\n",
    "    "
   ]
  },
  {
   "cell_type": "code",
   "execution_count": 6,
   "id": "d369153d-c155-4e27-ba7c-7228a56dd0f9",
   "metadata": {},
   "outputs": [],
   "source": [
    "for cov, data_ in raw_data.items():\n",
    "    df = operations._parse_ncss_dataset(data_, cov.configuration.netcdf_main_dataset_name, None, None, cov.identifier)"
   ]
  },
  {
   "cell_type": "code",
   "execution_count": 7,
   "id": "ca25cce2-36fb-44fb-a60c-b3f8ede028b8",
   "metadata": {},
   "outputs": [],
   "source": [
    "import pyloess"
   ]
  },
  {
   "cell_type": "code",
   "execution_count": 10,
   "id": "16946c48-0c1e-46bf-9cd2-453ee8f5bc2b",
   "metadata": {},
   "outputs": [],
   "source": [
    "smoothed = pyloess.loess(df.index.year.astype(\"int\").values, df[coverage_identifier], span=0.75, degree=2)"
   ]
  },
  {
   "cell_type": "code",
   "execution_count": 11,
   "id": "60dd97fa-6a8f-4ed8-b25b-d13a38d9d89b",
   "metadata": {
    "scrolled": true
   },
   "outputs": [
    {
     "data": {
      "text/plain": [
       "array([[1976.        ,    3.39045092],\n",
       "       [1977.        ,    3.41520367],\n",
       "       [1978.        ,    3.43951448],\n",
       "       [1979.        ,    3.46338917],\n",
       "       [1980.        ,    3.48683499],\n",
       "       [1981.        ,    3.50985909],\n",
       "       [1982.        ,    3.53246727],\n",
       "       [1983.        ,    3.55466547],\n",
       "       [1984.        ,    3.57645893],\n",
       "       [1985.        ,    3.59785423],\n",
       "       [1986.        ,    3.6188608 ],\n",
       "       [1987.        ,    3.63948834],\n",
       "       [1988.        ,    3.65974729],\n",
       "       [1989.        ,    3.67964993],\n",
       "       [1990.        ,    3.69921081],\n",
       "       [1991.        ,    3.71844372],\n",
       "       [1992.        ,    3.73736291],\n",
       "       [1993.        ,    3.75598335],\n",
       "       [1994.        ,    3.77432163],\n",
       "       [1995.        ,    3.7923959 ],\n",
       "       [1996.        ,    3.81022421],\n",
       "       [1997.        ,    3.82782181],\n",
       "       [1998.        ,    3.8452036 ],\n",
       "       [1999.        ,    3.86238304],\n",
       "       [2000.        ,    3.87937367],\n",
       "       [2001.        ,    3.89618642],\n",
       "       [2002.        ,    3.91283006],\n",
       "       [2003.        ,    3.92931283],\n",
       "       [2004.        ,    3.94564078],\n",
       "       [2005.        ,    3.96181679],\n",
       "       [2006.        ,    3.97784126],\n",
       "       [2007.        ,    3.99370947],\n",
       "       [2008.        ,    4.00941002],\n",
       "       [2009.        ,    4.02492491],\n",
       "       [2010.        ,    4.04022963],\n",
       "       [2011.        ,    4.05528821],\n",
       "       [2012.        ,    4.07005002],\n",
       "       [2013.        ,    4.08445509],\n",
       "       [2014.        ,    4.09843551],\n",
       "       [2015.        ,    4.11190995],\n",
       "       [2016.        ,    4.12477485],\n",
       "       [2017.        ,    4.13690201],\n",
       "       [2018.        ,    4.14813488],\n",
       "       [2019.        ,    4.15831013],\n",
       "       [2020.        ,    4.16730638],\n",
       "       [2021.        ,    4.17513242],\n",
       "       [2022.        ,    4.18196441],\n",
       "       [2023.        ,    4.19625107],\n",
       "       [2024.        ,    4.21062102],\n",
       "       [2025.        ,    4.22493585],\n",
       "       [2026.        ,    4.23921175],\n",
       "       [2027.        ,    4.25354211],\n",
       "       [2028.        ,    4.26806956],\n",
       "       [2029.        ,    4.28300472],\n",
       "       [2030.        ,    4.29854456],\n",
       "       [2031.        ,    4.31481714],\n",
       "       [2032.        ,    4.33193141],\n",
       "       [2033.        ,    4.34987622],\n",
       "       [2034.        ,    4.36855939],\n",
       "       [2035.        ,    4.38791159],\n",
       "       [2036.        ,    4.40782196],\n",
       "       [2037.        ,    4.42815529],\n",
       "       [2038.        ,    4.44861772],\n",
       "       [2039.        ,    4.46891522],\n",
       "       [2040.        ,    4.48884042],\n",
       "       [2041.        ,    4.50831509],\n",
       "       [2042.        ,    4.52728011],\n",
       "       [2043.        ,    4.54563333],\n",
       "       [2044.        ,    4.56325833],\n",
       "       [2045.        ,    4.58006323],\n",
       "       [2046.        ,    4.59600293],\n",
       "       [2047.        ,    4.61099795],\n",
       "       [2048.        ,    4.6248397 ],\n",
       "       [2049.        ,    4.63730183],\n",
       "       [2050.        ,    4.64824497],\n",
       "       [2051.        ,    4.65766433],\n",
       "       [2052.        ,    4.66565783],\n",
       "       [2053.        ,    4.67241102],\n",
       "       [2054.        ,    4.67526526],\n",
       "       [2055.        ,    4.67849819],\n",
       "       [2056.        ,    4.68235967],\n",
       "       [2057.        ,    4.68683354],\n",
       "       [2058.        ,    4.69177381],\n",
       "       [2059.        ,    4.69701813],\n",
       "       [2060.        ,    4.70242627],\n",
       "       [2061.        ,    4.70788883],\n",
       "       [2062.        ,    4.71332622],\n",
       "       [2063.        ,    4.71868373],\n",
       "       [2064.        ,    4.72392387],\n",
       "       [2065.        ,    4.72901914],\n",
       "       [2066.        ,    4.73395416],\n",
       "       [2067.        ,    4.7387202 ],\n",
       "       [2068.        ,    4.74331141],\n",
       "       [2069.        ,    4.74772083],\n",
       "       [2070.        ,    4.75194145],\n",
       "       [2071.        ,    4.75596588],\n",
       "       [2072.        ,    4.75978888],\n",
       "       [2073.        ,    4.76340877],\n",
       "       [2074.        ,    4.76682503],\n",
       "       [2075.        ,    4.77004131],\n",
       "       [2076.        ,    4.77306356],\n",
       "       [2077.        ,    4.7759003 ],\n",
       "       [2078.        ,    4.77855902],\n",
       "       [2079.        ,    4.78104787],\n",
       "       [2080.        ,    4.78337515],\n",
       "       [2081.        ,    4.78554851],\n",
       "       [2082.        ,    4.7875757 ],\n",
       "       [2083.        ,    4.78946472],\n",
       "       [2084.        ,    4.791222  ],\n",
       "       [2085.        ,    4.79285211],\n",
       "       [2086.        ,    4.79436069],\n",
       "       [2087.        ,    4.7957522 ],\n",
       "       [2088.        ,    4.79703161],\n",
       "       [2089.        ,    4.79820364],\n",
       "       [2090.        ,    4.79927258],\n",
       "       [2091.        ,    4.8002431 ],\n",
       "       [2092.        ,    4.80111915],\n",
       "       [2093.        ,    4.80190698],\n",
       "       [2094.        ,    4.80260852],\n",
       "       [2095.        ,    4.80322256],\n",
       "       [2096.        ,    4.80374603],\n",
       "       [2097.        ,    4.80417534],\n",
       "       [2098.        ,    4.8045086 ],\n",
       "       [2099.        ,    4.80474447]])"
      ]
     },
     "execution_count": 11,
     "metadata": {},
     "output_type": "execute_result"
    }
   ],
   "source": [
    "smoothed"
   ]
  },
  {
   "cell_type": "code",
   "execution_count": 12,
   "id": "cf2d3db8-41e6-47e1-b93e-efa30e882e0f",
   "metadata": {},
   "outputs": [
    {
     "data": {
      "text/plain": [
       "array([3.39045092, 3.41520367, 3.43951448, 3.46338917, 3.48683499,\n",
       "       3.50985909, 3.53246727, 3.55466547, 3.57645893, 3.59785423,\n",
       "       3.6188608 , 3.63948834, 3.65974729, 3.67964993, 3.69921081,\n",
       "       3.71844372, 3.73736291, 3.75598335, 3.77432163, 3.7923959 ,\n",
       "       3.81022421, 3.82782181, 3.8452036 , 3.86238304, 3.87937367,\n",
       "       3.89618642, 3.91283006, 3.92931283, 3.94564078, 3.96181679,\n",
       "       3.97784126, 3.99370947, 4.00941002, 4.02492491, 4.04022963,\n",
       "       4.05528821, 4.07005002, 4.08445509, 4.09843551, 4.11190995,\n",
       "       4.12477485, 4.13690201, 4.14813488, 4.15831013, 4.16730638,\n",
       "       4.17513242, 4.18196441, 4.19625107, 4.21062102, 4.22493585,\n",
       "       4.23921175, 4.25354211, 4.26806956, 4.28300472, 4.29854456,\n",
       "       4.31481714, 4.33193141, 4.34987622, 4.36855939, 4.38791159,\n",
       "       4.40782196, 4.42815529, 4.44861772, 4.46891522, 4.48884042,\n",
       "       4.50831509, 4.52728011, 4.54563333, 4.56325833, 4.58006323,\n",
       "       4.59600293, 4.61099795, 4.6248397 , 4.63730183, 4.64824497,\n",
       "       4.65766433, 4.66565783, 4.67241102, 4.67526526, 4.67849819,\n",
       "       4.68235967, 4.68683354, 4.69177381, 4.69701813, 4.70242627,\n",
       "       4.70788883, 4.71332622, 4.71868373, 4.72392387, 4.72901914,\n",
       "       4.73395416, 4.7387202 , 4.74331141, 4.74772083, 4.75194145,\n",
       "       4.75596588, 4.75978888, 4.76340877, 4.76682503, 4.77004131,\n",
       "       4.77306356, 4.7759003 , 4.77855902, 4.78104787, 4.78337515,\n",
       "       4.78554851, 4.7875757 , 4.78946472, 4.791222  , 4.79285211,\n",
       "       4.79436069, 4.7957522 , 4.79703161, 4.79820364, 4.79927258,\n",
       "       4.8002431 , 4.80111915, 4.80190698, 4.80260852, 4.80322256,\n",
       "       4.80374603, 4.80417534, 4.8045086 , 4.80474447])"
      ]
     },
     "execution_count": 12,
     "metadata": {},
     "output_type": "execute_result"
    }
   ],
   "source": [
    "smoothed[:, 1]"
   ]
  }
 ],
 "metadata": {
  "kernelspec": {
   "display_name": "Python 3 (ipykernel)",
   "language": "python",
   "name": "python3"
  },
  "language_info": {
   "codemirror_mode": {
    "name": "ipython",
    "version": 3
   },
   "file_extension": ".py",
   "mimetype": "text/x-python",
   "name": "python",
   "nbconvert_exporter": "python",
   "pygments_lexer": "ipython3",
   "version": "3.10.8"
  }
 },
 "nbformat": 4,
 "nbformat_minor": 5
}
