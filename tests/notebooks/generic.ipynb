{
 "cells": [
  {
   "cell_type": "code",
   "execution_count": 1,
   "id": "dbcc00b1-2fc1-43ff-9549-ebca8cf03262",
   "metadata": {},
   "outputs": [],
   "source": [
    "%matplotlib widget\n",
    "\n",
    "import logging\n",
    "import time\n",
    "\n",
    "import cftime\n",
    "import httpx\n",
    "import matplotlib.pyplot as plt\n",
    "import netCDF4\n",
    "import pandas as pd\n",
    "import shapely.io\n",
    "import sqlmodel\n",
    "from sqlalchemy import (\n",
    "    bindparam, \n",
    "    func\n",
    ")\n",
    "\n",
    "from arpav_ppcv import (\n",
    "    database as db,\n",
    "    operations,\n",
    ")\n",
    "from arpav_ppcv.config import get_settings\n",
    "from arpav_ppcv.schemas.base import (\n",
    "    CoverageDataSmoothingStrategy,\n",
    "    ObservationDataSmoothingStrategy,\n",
    "    ObservationAggregationType,\n",
    "    Season,\n",
    ")\n",
    "from arpav_ppcv.schemas import coverages\n",
    "from arpav_ppcv.schemas.coverages import CoverageInternal\n",
    "from arpav_ppcv.schemas import observations\n",
    "\n",
    "logging.basicConfig(level=logging.DEBUG)\n",
    "logging.getLogger(\"httpx\").setLevel(logging.WARNING)\n",
    "logging.getLogger(\"httpcore\").setLevel(logging.WARNING)\n",
    "logging.getLogger(\"matplotlib\").setLevel(logging.WARNING)\n",
    "\n",
    "settings = get_settings()\n",
    "session = sqlmodel.Session(db.get_engine(settings))\n",
    "http_client = httpx.Client()"
   ]
  },
  {
   "cell_type": "code",
   "execution_count": 2,
   "id": "839244fc-728f-47b3-9a72-a1011b87b38a",
   "metadata": {},
   "outputs": [],
   "source": [
    "all_cov_confs = db.collect_all_coverage_configurations(session)"
   ]
  },
  {
   "cell_type": "code",
   "execution_count": 3,
   "id": "ea47a457-5196-4a4f-a13e-677620338211",
   "metadata": {},
   "outputs": [],
   "source": [
    "cc = all_cov_confs[0]"
   ]
  },
  {
   "cell_type": "code",
   "execution_count": 9,
   "id": "a220dfd1-5f66-49b2-a9fe-5b51708f08e6",
   "metadata": {},
   "outputs": [
    {
     "data": {
      "text/plain": [
       "'year_period'"
      ]
     },
     "execution_count": 9,
     "metadata": {},
     "output_type": "execute_result"
    }
   ],
   "source": [
    "cc.possible_values[0].configuration_parameter_value.configuration_parameter.name"
   ]
  },
  {
   "cell_type": "code",
   "execution_count": 10,
   "id": "f296518d-c9b0-4c32-8e9b-216a420ee6ef",
   "metadata": {},
   "outputs": [
    {
     "data": {
      "text/plain": [
       "ConfigurationParameterPossibleValue(configuration_parameter_value_id=UUID('dae44b14-c413-44db-8970-f2236b70028a'), coverage_configuration_id=UUID('268a76ab-4675-4234-a212-15108fa693d7'))"
      ]
     },
     "execution_count": 10,
     "metadata": {},
     "output_type": "execute_result"
    }
   ],
   "source": [
    "[pv for pv in cc.possible_values if pv.configuration_parameter_value.configuration_parameter.name == \"climatological_variable\"][0]"
   ]
  },
  {
   "cell_type": "code",
   "execution_count": 12,
   "id": "4813b978-ab43-4897-805b-394c45be70e2",
   "metadata": {},
   "outputs": [
    {
     "data": {
      "text/plain": [
       "'MAM'"
      ]
     },
     "execution_count": 12,
     "metadata": {},
     "output_type": "execute_result"
    }
   ],
   "source": [
    "cc.possible_values[0].configuration_parameter_value.name"
   ]
  },
  {
   "cell_type": "code",
   "execution_count": 2,
   "id": "97e789b2-721b-4e10-baa4-8b4bb39d3ade",
   "metadata": {},
   "outputs": [
    {
     "name": "stderr",
     "output_type": "stream",
     "text": [
      "INFO:arpav_ppcv.operations:coverage configuration 'tas_barometro_climatico' does not have a `aggregation_period`, skipping...\n",
      "INFO:arpav_ppcv.operations:coverage configuration 'tas_barometro_climatico_lower_uncertainty' does not have a `aggregation_period`, skipping...\n",
      "INFO:arpav_ppcv.operations:coverage configuration 'tas_barometro_climatico_upper_uncertainty' does not have a `aggregation_period`, skipping...\n"
     ]
    }
   ],
   "source": [
    "result = operations.get_forecast_variable_parameters(session)"
   ]
  },
  {
   "cell_type": "code",
   "execution_count": 3,
   "id": "25c2ade2-e3e7-418a-b19a-97023ea76d24",
   "metadata": {},
   "outputs": [
    {
     "data": {
      "text/plain": [
       "['tas-30yr-anomaly', 'tas-annual-absolute', 'tas-annual-anomaly']"
      ]
     },
     "execution_count": 3,
     "metadata": {},
     "output_type": "execute_result"
    }
   ],
   "source": [
    "[k for k in result.keys() if \"tas-\" in k]"
   ]
  },
  {
   "cell_type": "code",
   "execution_count": 4,
   "id": "8dc2ad3d-6729-46e8-8fea-b2b2257dfe81",
   "metadata": {},
   "outputs": [
    {
     "data": {
      "text/plain": [
       "dict_keys(['climatological_variable', 'aggregation_period', 'measure', 'combinations'])"
      ]
     },
     "execution_count": 4,
     "metadata": {},
     "output_type": "execute_result"
    }
   ],
   "source": [
    "result[\"tas-30yr-anomaly\"].keys()"
   ]
  },
  {
   "cell_type": "code",
   "execution_count": 6,
   "id": "dd151151-4344-42e3-8a19-d2a6ad6d252a",
   "metadata": {},
   "outputs": [
    {
     "data": {
      "text/plain": [
       "ConfigurationParameterValue(id=UUID('e6ff2bf7-67c4-48f9-ad3a-e0737cc2c07a'), display_name_italian='TAS', description_italian='Temperatura media', name='tas', display_name_english='TAS', description_english='Mean temperature', configuration_parameter_id=UUID('12dfb711-9c18-46ac-8fc5-0b902eb48964'))"
      ]
     },
     "execution_count": 6,
     "metadata": {},
     "output_type": "execute_result"
    }
   ],
   "source": [
    "result[\"tas-30yr-anomaly\"][\"climatological_variable\"]"
   ]
  },
  {
   "cell_type": "code",
   "execution_count": 7,
   "id": "01884c1d-df69-429c-824b-bdde3f115386",
   "metadata": {},
   "outputs": [
    {
     "data": {
      "text/plain": [
       "ConfigurationParameterValue(id=UUID('b137bb59-a00b-4ed0-a5ea-3ecb4d6c9f7f'), display_name_italian='30 anni', description_italian=\"I set di dati contengono un'aggregazione di 30 anni\", name='30yr', display_name_english='30 Years', description_english='Datasets contain aggregation of 30 years', configuration_parameter_id=UUID('52732ef9-db4c-48af-984f-39b35f3f4fa2'))"
      ]
     },
     "execution_count": 7,
     "metadata": {},
     "output_type": "execute_result"
    }
   ],
   "source": [
    "result[\"tas-30yr-anomaly\"][\"aggregation_period\"]"
   ]
  },
  {
   "cell_type": "code",
   "execution_count": 8,
   "id": "97ffbb61-826e-4d5b-be1d-e1fa77769fd8",
   "metadata": {},
   "outputs": [
    {
     "data": {
      "text/plain": [
       "ConfigurationParameterValue(id=UUID('dab01644-d1cd-4b31-91ae-34a17b5292f5'), display_name_italian='Anomalia climatologica', description_italian='Rappresenta i valori di anomalia climatologica per la variabile', name='anomaly', display_name_english='Climatological anomaly', description_english='Represents climatological anomaly values for the variable', configuration_parameter_id=UUID('ab4becc0-57db-4716-b8d4-b3ca5eba0ce9'))"
      ]
     },
     "execution_count": 8,
     "metadata": {},
     "output_type": "execute_result"
    }
   ],
   "source": [
    "result[\"tas-30yr-anomaly\"][\"measure\"]"
   ]
  },
  {
   "cell_type": "code",
   "execution_count": 9,
   "id": "391a7eb9-9ae5-4085-b4f5-2ac3364bbd7f",
   "metadata": {},
   "outputs": [
    {
     "data": {
      "text/plain": [
       "dict_keys(['year_period', 'climatological_model', 'scenario', 'time_window'])"
      ]
     },
     "execution_count": 9,
     "metadata": {},
     "output_type": "execute_result"
    }
   ],
   "source": [
    "result[\"tas-30yr-anomaly\"][\"combinations\"].keys()"
   ]
  },
  {
   "cell_type": "code",
   "execution_count": 10,
   "id": "9672f748-b3d4-48a1-b2f7-f0c60ec4f9d4",
   "metadata": {},
   "outputs": [
    {
     "data": {
      "text/plain": [
       "[ConfigurationParameterValue(id=UUID('1021b1a8-9e9f-4c90-b483-9211bc17c2e0'), display_name_italian='Primavera', description_italian='Stagione climatologica primaverile (marzo, aprile, maggio)', name='MAM', display_name_english='Spring', description_english='Climatological spring season (March, April, May)', configuration_parameter_id=UUID('1f0a6946-ae9a-48d8-81ef-ef18b14ac767')),\n",
       " ConfigurationParameterValue(id=UUID('731991b0-d6fd-48ad-976a-3519ee5e8e52'), display_name_italian='Estate', description_italian='Stagione climatologica estiva (giugno, luglio, agosto)', name='JJA', display_name_english='Summer', description_english='Climatological summer season (June, July, August)', configuration_parameter_id=UUID('1f0a6946-ae9a-48d8-81ef-ef18b14ac767')),\n",
       " ConfigurationParameterValue(id=UUID('94b9b78b-e344-4288-a4e8-aa54f83ef63e'), display_name_italian='Autunno', description_italian='Stagione climatologica autunnale (settembre, ottobre, novembre)', name='SON', display_name_english='Autumn', description_english='Climatological autumn season (September, October, November)', configuration_parameter_id=UUID('1f0a6946-ae9a-48d8-81ef-ef18b14ac767')),\n",
       " ConfigurationParameterValue(id=UUID('ff4e7c7b-7141-4d37-8979-3c5714ac4b4d'), display_name_italian='Inverno', description_italian='Stagione climatologica invernale (dicembre, gennaio, febbraio)', name='DJF', display_name_english='Winter', description_english='Climatological winter season (December, January, February)', configuration_parameter_id=UUID('1f0a6946-ae9a-48d8-81ef-ef18b14ac767'))]"
      ]
     },
     "execution_count": 10,
     "metadata": {},
     "output_type": "execute_result"
    }
   ],
   "source": [
    "result[\"tas-30yr-anomaly\"][\"combinations\"][\"year_period\"][\"values\"]"
   ]
  },
  {
   "cell_type": "code",
   "execution_count": 12,
   "id": "e592a4de-9a39-46f2-81f0-205c6bdd9cfb",
   "metadata": {},
   "outputs": [
    {
     "data": {
      "text/plain": [
       "[ConfigurationParameterValue(id=UUID('c2834ce6-b5a4-4ace-b569-b9a00a957413'), display_name_italian='Anno', description_italian=\"L'intero anno\", name='year', display_name_english='Year', description_english='Whole year', configuration_parameter_id=UUID('1f0a6946-ae9a-48d8-81ef-ef18b14ac767')),\n",
       " ConfigurationParameterValue(id=UUID('1021b1a8-9e9f-4c90-b483-9211bc17c2e0'), display_name_italian='Primavera', description_italian='Stagione climatologica primaverile (marzo, aprile, maggio)', name='MAM', display_name_english='Spring', description_english='Climatological spring season (March, April, May)', configuration_parameter_id=UUID('1f0a6946-ae9a-48d8-81ef-ef18b14ac767')),\n",
       " ConfigurationParameterValue(id=UUID('731991b0-d6fd-48ad-976a-3519ee5e8e52'), display_name_italian='Estate', description_italian='Stagione climatologica estiva (giugno, luglio, agosto)', name='JJA', display_name_english='Summer', description_english='Climatological summer season (June, July, August)', configuration_parameter_id=UUID('1f0a6946-ae9a-48d8-81ef-ef18b14ac767')),\n",
       " ConfigurationParameterValue(id=UUID('94b9b78b-e344-4288-a4e8-aa54f83ef63e'), display_name_italian='Autunno', description_italian='Stagione climatologica autunnale (settembre, ottobre, novembre)', name='SON', display_name_english='Autumn', description_english='Climatological autumn season (September, October, November)', configuration_parameter_id=UUID('1f0a6946-ae9a-48d8-81ef-ef18b14ac767')),\n",
       " ConfigurationParameterValue(id=UUID('ff4e7c7b-7141-4d37-8979-3c5714ac4b4d'), display_name_italian='Inverno', description_italian='Stagione climatologica invernale (dicembre, gennaio, febbraio)', name='DJF', display_name_english='Winter', description_english='Climatological winter season (December, January, February)', configuration_parameter_id=UUID('1f0a6946-ae9a-48d8-81ef-ef18b14ac767'))]"
      ]
     },
     "execution_count": 12,
     "metadata": {},
     "output_type": "execute_result"
    }
   ],
   "source": [
    "result[\"tas-annual-absolute\"][\"combinations\"][\"year_period\"][\"values\"]"
   ]
  }
 ],
 "metadata": {
  "kernelspec": {
   "display_name": "Python 3 (ipykernel)",
   "language": "python",
   "name": "python3"
  },
  "language_info": {
   "codemirror_mode": {
    "name": "ipython",
    "version": 3
   },
   "file_extension": ".py",
   "mimetype": "text/x-python",
   "name": "python",
   "nbconvert_exporter": "python",
   "pygments_lexer": "ipython3",
   "version": "3.10.14"
  }
 },
 "nbformat": 4,
 "nbformat_minor": 5
}
