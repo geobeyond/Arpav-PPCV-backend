{
 "cells": [
  {
   "cell_type": "code",
   "execution_count": 1,
   "id": "dbcc00b1-2fc1-43ff-9549-ebca8cf03262",
   "metadata": {},
   "outputs": [],
   "source": [
    "%matplotlib widget\n",
    "\n",
    "import logging\n",
    "import time\n",
    "\n",
    "import cftime\n",
    "import httpx\n",
    "import matplotlib.pyplot as plt\n",
    "import netCDF4\n",
    "import pandas as pd\n",
    "import shapely.io\n",
    "import sqlmodel\n",
    "from sqlalchemy import (\n",
    "    bindparam, \n",
    "    func\n",
    ")\n",
    "\n",
    "from arpav_ppcv import (\n",
    "    database as db,\n",
    "    operations,\n",
    ")\n",
    "from arpav_ppcv.config import get_settings\n",
    "from arpav_ppcv.schemas.base import (\n",
    "    CoverageDataSmoothingStrategy,\n",
    "    ObservationDataSmoothingStrategy,\n",
    "    ObservationAggregationType,\n",
    "    Season,\n",
    ")\n",
    "from arpav_ppcv.schemas import coverages\n",
    "from arpav_ppcv.schemas.coverages import CoverageInternal\n",
    "from arpav_ppcv.schemas import observations\n",
    "\n",
    "logging.basicConfig(level=logging.DEBUG)\n",
    "logging.getLogger(\"httpx\").setLevel(logging.WARNING)\n",
    "logging.getLogger(\"httpcore\").setLevel(logging.WARNING)\n",
    "logging.getLogger(\"matplotlib\").setLevel(logging.WARNING)\n",
    "\n",
    "settings = get_settings()\n",
    "session = sqlmodel.Session(db.get_engine(settings))\n",
    "http_client = httpx.Client()"
   ]
  },
  {
   "cell_type": "code",
   "execution_count": 2,
   "id": "839244fc-728f-47b3-9a72-a1011b87b38a",
   "metadata": {},
   "outputs": [
    {
     "data": {
      "text/plain": [
       "CoverageInternal(configuration=CoverageConfiguration(netcdf_main_dataset_name='tas', observation_variable_id=UUID('d0a75169-1f50-43ff-aeb3-92bedabda68f'), thredds_url_pattern='ensembletwbc/std/clipped/tas_avgagree_anom_{time_window}_{scenario}_{year_period}_VFVGTAA.nc', observation_variable_aggregation_type=<ObservationAggregationType.SEASONAL: 'SEASONAL'>, name='tas_30yr_anomaly_seasonal_agree_model_ensemble', wms_main_layer_name='tas-uncertainty_group', uncertainty_lower_bounds_coverage_configuration_id=None, id=UUID('85b2feb9-a5fe-44b3-a447-1ccf712d3aa1'), wms_secondary_layer_name='tas', uncertainty_upper_bounds_coverage_configuration_id=None, display_name_english='Mean temperature', unit='ºC', related_time_series_coverage_configuration_id=UUID('b89a42c8-587f-43a3-9b4f-c39dbe9f5679'), display_name_italian='Temperatura media', palette='uncert-stippled/seq-YlOrRd', description_english='Mean temperature', color_scale_min=0.0, description_italian='Temperatura media', color_scale_max=6.0, coverage_id_pattern='{name}-{aggregation_period}-{climatological_model}-{climatological_variable}-{measure}-{scenario}-{time_window}-{year_period}'), identifier='tas_30yr_anomaly_seasonal_agree_model_ensemble-30yr-model_ensemble-tas-anomaly-rcp26-tw1-DJF')"
      ]
     },
     "execution_count": 2,
     "metadata": {},
     "output_type": "execute_result"
    }
   ],
   "source": [
    "cov_id = \"tas_30yr_anomaly_seasonal_agree_model_ensemble-30yr-model_ensemble-tas-anomaly-rcp26-tw1-DJF\"\n",
    "cov = CoverageInternal(\n",
    "    identifier=cov_id,\n",
    "    configuration=db.get_coverage_configuration_by_coverage_identifier(session, cov_id)\n",
    ")\n",
    "cov"
   ]
  },
  {
   "cell_type": "code",
   "execution_count": 3,
   "id": "a86c8db2-a0ed-4923-bc0b-44115fc47367",
   "metadata": {},
   "outputs": [
    {
     "name": "stderr",
     "output_type": "stream",
     "text": [
      "WARNING:arpav_ppcv.operations:Could not find a usable value for tw1 - time_window\n"
     ]
    }
   ],
   "source": [
    "ts_related = operations.get_time_series_related_coverage(cov)"
   ]
  },
  {
   "cell_type": "code",
   "execution_count": 4,
   "id": "0fda079c-3e19-4c8d-811a-f34647f98d04",
   "metadata": {},
   "outputs": [
    {
     "data": {
      "text/plain": [
       "'tas_seasonal_absolute_model_ensemble-annual-model_ensemble-tas-absolute-rcp26-DJF'"
      ]
     },
     "execution_count": 4,
     "metadata": {},
     "output_type": "execute_result"
    }
   ],
   "source": [
    "ts_related.identifier"
   ]
  }
 ],
 "metadata": {
  "kernelspec": {
   "display_name": "Python 3 (ipykernel)",
   "language": "python",
   "name": "python3"
  },
  "language_info": {
   "codemirror_mode": {
    "name": "ipython",
    "version": 3
   },
   "file_extension": ".py",
   "mimetype": "text/x-python",
   "name": "python",
   "nbconvert_exporter": "python",
   "pygments_lexer": "ipython3",
   "version": "3.10.14"
  }
 },
 "nbformat": 4,
 "nbformat_minor": 5
}
