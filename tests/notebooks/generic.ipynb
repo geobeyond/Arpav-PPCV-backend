{
 "cells": [
  {
   "cell_type": "code",
   "execution_count": 1,
   "id": "dbcc00b1-2fc1-43ff-9549-ebca8cf03262",
   "metadata": {},
   "outputs": [],
   "source": [
    "%matplotlib widget\n",
    "\n",
    "import logging\n",
    "import time\n",
    "\n",
    "import cftime\n",
    "import httpx\n",
    "import matplotlib.pyplot as plt\n",
    "import netCDF4\n",
    "import pandas as pd\n",
    "import shapely.io\n",
    "import sqlmodel\n",
    "from loess.loess_1d import loess_1d\n",
    "\n",
    "from arpav_ppcv import (\n",
    "    database as db,\n",
    "    operations,\n",
    ")\n",
    "from arpav_ppcv.config import get_settings\n",
    "from arpav_ppcv.schemas.base import (\n",
    "    CoverageDataSmoothingStrategy,\n",
    "    ObservationDataSmoothingStrategy,\n",
    "    ObservationAggregationType,\n",
    "    Season,\n",
    ")\n",
    "from arpav_ppcv.schemas.coverages import CoverageInternal\n",
    "\n",
    "logging.basicConfig(level=logging.DEBUG)\n",
    "logging.getLogger(\"httpx\").setLevel(logging.WARNING)\n",
    "logging.getLogger(\"httpcore\").setLevel(logging.WARNING)\n",
    "logging.getLogger(\"matplotlib\").setLevel(logging.WARNING)\n",
    "\n",
    "settings = get_settings()\n",
    "session = sqlmodel.Session(db.get_engine(settings))\n",
    "http_client = httpx.Client()"
   ]
  },
  {
   "cell_type": "code",
   "execution_count": 2,
   "id": "c65166b7-4173-444c-be69-688ff5f6b874",
   "metadata": {},
   "outputs": [],
   "source": [
    "coverage_identifier = \"tas_seasonal_absolute_model_ensemble-model_ensemble-absolute-rcp26-DJF\"\n",
    "point_coords = \"POINT(11.5469 44.9524)\"\n",
    "date_range = \"../..\"\n",
    "\n",
    "cov = CoverageInternal(\n",
    "    configuration=db.get_coverage_configuration_by_coverage_identifier(session, coverage_identifier), \n",
    "    identifier=coverage_identifier\n",
    ")"
   ]
  },
  {
   "cell_type": "code",
   "execution_count": 6,
   "id": "6fa57746-a891-449a-b8c0-313de8470cd5",
   "metadata": {},
   "outputs": [
    {
     "data": {
      "text/plain": [
       "['tas_seasonal_absolute_model_ensemble-model_ensemble-absolute-rcp26-DJF',\n",
       " 'tas_seasonal_absolute_model_ensemble-model_ensemble-absolute-rcp26-MAM',\n",
       " 'tas_seasonal_absolute_model_ensemble-model_ensemble-absolute-rcp26-JJA',\n",
       " 'tas_seasonal_absolute_model_ensemble-model_ensemble-absolute-rcp26-SON']"
      ]
     },
     "execution_count": 6,
     "metadata": {},
     "output_type": "execute_result"
    }
   ],
   "source": [
    "db.list_allowed_coverage_identifiers(\n",
    "    session, \n",
    "    coverage_configuration_id=cov.configuration.id, \n",
    "    select_configuration_parameter_values=[\n",
    "        db.get_configuration_parameter_value_by_names(session, \"scenario\", \"rcp26\"),\n",
    "        db.get_configuration_parameter_value_by_names(session, \"time_period\", \"MAM\"),\n",
    "    ]\n",
    ")"
   ]
  },
  {
   "cell_type": "code",
   "execution_count": 7,
   "id": "c90bcb97-aff2-454c-bc88-eaf30676cdd5",
   "metadata": {},
   "outputs": [
    {
     "data": {
      "text/plain": [
       "([CoverageInternal(configuration=CoverageConfiguration(netcdf_main_dataset_name='cdd', observation_variable_aggregation_type=None, thredds_url_pattern='ensembletwbc/std/clipped/eca_cdd_an_avgagree_{time_window}_{scenario}_{year_period}_ls_VFVGTAA.nc', uncertainty_lower_bounds_coverage_configuration_id=None, name='cdd_30yr_anomaly_annual_agree_model_ensemble', wms_main_layer_name='consecutive_dry_days_index_per_time_period-uncertainty_group', uncertainty_upper_bounds_coverage_configuration_id=None, id=UUID('d50ef8e7-1a84-435e-84e6-294664b0964c'), unit='gg', display_name_english=None, palette='uncert-stippled/div-BrBG-inv', display_name_italian=None, color_scale_min=-40.0, description_english=None, color_scale_max=40.0, description_italian=None, observation_variable_id=None, coverage_id_pattern='{name}-{scenario}-{time_window}-{year_period}'), identifier='cdd_30yr_anomaly_annual_agree_model_ensemble-rcp26-tw1-DJF'),\n",
       "  CoverageInternal(configuration=CoverageConfiguration(netcdf_main_dataset_name='cdd', observation_variable_aggregation_type=None, thredds_url_pattern='ensembletwbc/std/clipped/eca_cdd_an_avgagree_{time_window}_{scenario}_{year_period}_ls_VFVGTAA.nc', uncertainty_lower_bounds_coverage_configuration_id=None, name='cdd_30yr_anomaly_annual_agree_model_ensemble', wms_main_layer_name='consecutive_dry_days_index_per_time_period-uncertainty_group', uncertainty_upper_bounds_coverage_configuration_id=None, id=UUID('d50ef8e7-1a84-435e-84e6-294664b0964c'), unit='gg', display_name_english=None, palette='uncert-stippled/div-BrBG-inv', display_name_italian=None, color_scale_min=-40.0, description_english=None, color_scale_max=40.0, description_italian=None, observation_variable_id=None, coverage_id_pattern='{name}-{scenario}-{time_window}-{year_period}'), identifier='cdd_30yr_anomaly_annual_agree_model_ensemble-rcp26-tw1-MAM'),\n",
       "  CoverageInternal(configuration=CoverageConfiguration(netcdf_main_dataset_name='cdd', observation_variable_aggregation_type=None, thredds_url_pattern='ensembletwbc/std/clipped/eca_cdd_an_avgagree_{time_window}_{scenario}_{year_period}_ls_VFVGTAA.nc', uncertainty_lower_bounds_coverage_configuration_id=None, name='cdd_30yr_anomaly_annual_agree_model_ensemble', wms_main_layer_name='consecutive_dry_days_index_per_time_period-uncertainty_group', uncertainty_upper_bounds_coverage_configuration_id=None, id=UUID('d50ef8e7-1a84-435e-84e6-294664b0964c'), unit='gg', display_name_english=None, palette='uncert-stippled/div-BrBG-inv', display_name_italian=None, color_scale_min=-40.0, description_english=None, color_scale_max=40.0, description_italian=None, observation_variable_id=None, coverage_id_pattern='{name}-{scenario}-{time_window}-{year_period}'), identifier='cdd_30yr_anomaly_annual_agree_model_ensemble-rcp26-tw1-JJA'),\n",
       "  CoverageInternal(configuration=CoverageConfiguration(netcdf_main_dataset_name='cdd', observation_variable_aggregation_type=None, thredds_url_pattern='ensembletwbc/std/clipped/eca_cdd_an_avgagree_{time_window}_{scenario}_{year_period}_ls_VFVGTAA.nc', uncertainty_lower_bounds_coverage_configuration_id=None, name='cdd_30yr_anomaly_annual_agree_model_ensemble', wms_main_layer_name='consecutive_dry_days_index_per_time_period-uncertainty_group', uncertainty_upper_bounds_coverage_configuration_id=None, id=UUID('d50ef8e7-1a84-435e-84e6-294664b0964c'), unit='gg', display_name_english=None, palette='uncert-stippled/div-BrBG-inv', display_name_italian=None, color_scale_min=-40.0, description_english=None, color_scale_max=40.0, description_italian=None, observation_variable_id=None, coverage_id_pattern='{name}-{scenario}-{time_window}-{year_period}'), identifier='cdd_30yr_anomaly_annual_agree_model_ensemble-rcp26-tw1-SON'),\n",
       "  CoverageInternal(configuration=CoverageConfiguration(netcdf_main_dataset_name='cdd', observation_variable_aggregation_type=None, thredds_url_pattern='ensembletwbc/std/clipped/eca_cdd_an_avgagree_{time_window}_{scenario}_{year_period}_ls_VFVGTAA.nc', uncertainty_lower_bounds_coverage_configuration_id=None, name='cdd_30yr_anomaly_annual_agree_model_ensemble', wms_main_layer_name='consecutive_dry_days_index_per_time_period-uncertainty_group', uncertainty_upper_bounds_coverage_configuration_id=None, id=UUID('d50ef8e7-1a84-435e-84e6-294664b0964c'), unit='gg', display_name_english=None, palette='uncert-stippled/div-BrBG-inv', display_name_italian=None, color_scale_min=-40.0, description_english=None, color_scale_max=40.0, description_italian=None, observation_variable_id=None, coverage_id_pattern='{name}-{scenario}-{time_window}-{year_period}'), identifier='cdd_30yr_anomaly_annual_agree_model_ensemble-rcp26-tw2-DJF'),\n",
       "  CoverageInternal(configuration=CoverageConfiguration(netcdf_main_dataset_name='cdd', observation_variable_aggregation_type=None, thredds_url_pattern='ensembletwbc/std/clipped/eca_cdd_an_avgagree_{time_window}_{scenario}_{year_period}_ls_VFVGTAA.nc', uncertainty_lower_bounds_coverage_configuration_id=None, name='cdd_30yr_anomaly_annual_agree_model_ensemble', wms_main_layer_name='consecutive_dry_days_index_per_time_period-uncertainty_group', uncertainty_upper_bounds_coverage_configuration_id=None, id=UUID('d50ef8e7-1a84-435e-84e6-294664b0964c'), unit='gg', display_name_english=None, palette='uncert-stippled/div-BrBG-inv', display_name_italian=None, color_scale_min=-40.0, description_english=None, color_scale_max=40.0, description_italian=None, observation_variable_id=None, coverage_id_pattern='{name}-{scenario}-{time_window}-{year_period}'), identifier='cdd_30yr_anomaly_annual_agree_model_ensemble-rcp26-tw2-MAM'),\n",
       "  CoverageInternal(configuration=CoverageConfiguration(netcdf_main_dataset_name='cdd', observation_variable_aggregation_type=None, thredds_url_pattern='ensembletwbc/std/clipped/eca_cdd_an_avgagree_{time_window}_{scenario}_{year_period}_ls_VFVGTAA.nc', uncertainty_lower_bounds_coverage_configuration_id=None, name='cdd_30yr_anomaly_annual_agree_model_ensemble', wms_main_layer_name='consecutive_dry_days_index_per_time_period-uncertainty_group', uncertainty_upper_bounds_coverage_configuration_id=None, id=UUID('d50ef8e7-1a84-435e-84e6-294664b0964c'), unit='gg', display_name_english=None, palette='uncert-stippled/div-BrBG-inv', display_name_italian=None, color_scale_min=-40.0, description_english=None, color_scale_max=40.0, description_italian=None, observation_variable_id=None, coverage_id_pattern='{name}-{scenario}-{time_window}-{year_period}'), identifier='cdd_30yr_anomaly_annual_agree_model_ensemble-rcp26-tw2-JJA'),\n",
       "  CoverageInternal(configuration=CoverageConfiguration(netcdf_main_dataset_name='cdd', observation_variable_aggregation_type=None, thredds_url_pattern='ensembletwbc/std/clipped/eca_cdd_an_avgagree_{time_window}_{scenario}_{year_period}_ls_VFVGTAA.nc', uncertainty_lower_bounds_coverage_configuration_id=None, name='cdd_30yr_anomaly_annual_agree_model_ensemble', wms_main_layer_name='consecutive_dry_days_index_per_time_period-uncertainty_group', uncertainty_upper_bounds_coverage_configuration_id=None, id=UUID('d50ef8e7-1a84-435e-84e6-294664b0964c'), unit='gg', display_name_english=None, palette='uncert-stippled/div-BrBG-inv', display_name_italian=None, color_scale_min=-40.0, description_english=None, color_scale_max=40.0, description_italian=None, observation_variable_id=None, coverage_id_pattern='{name}-{scenario}-{time_window}-{year_period}'), identifier='cdd_30yr_anomaly_annual_agree_model_ensemble-rcp26-tw2-SON'),\n",
       "  CoverageInternal(configuration=CoverageConfiguration(netcdf_main_dataset_name='cdd', observation_variable_aggregation_type=None, thredds_url_pattern='indici5rcm/clipped/eca_cdd_an_EC-EARTH_CCLM4-8-17_{scenario}_{year_period}_{time_window}_ls_VFVGTAA.nc', uncertainty_lower_bounds_coverage_configuration_id=None, name='cdd_30yr_anomaly_annual_model_ec_earth_cclm4_8_17', wms_main_layer_name='consecutive_dry_days_index_per_time_period', uncertainty_upper_bounds_coverage_configuration_id=None, id=UUID('d04c8d32-277b-4d50-ba68-02836523c3af'), unit='gg', display_name_english=None, palette='default/div-BrBG-inv', display_name_italian=None, color_scale_min=-40.0, description_english=None, color_scale_max=40.0, description_italian=None, observation_variable_id=None, coverage_id_pattern='{name}-{scenario}-{time_window}-{year_period}'), identifier='cdd_30yr_anomaly_annual_model_ec_earth_cclm4_8_17-rcp26-tw1-DJF'),\n",
       "  CoverageInternal(configuration=CoverageConfiguration(netcdf_main_dataset_name='cdd', observation_variable_aggregation_type=None, thredds_url_pattern='indici5rcm/clipped/eca_cdd_an_EC-EARTH_CCLM4-8-17_{scenario}_{year_period}_{time_window}_ls_VFVGTAA.nc', uncertainty_lower_bounds_coverage_configuration_id=None, name='cdd_30yr_anomaly_annual_model_ec_earth_cclm4_8_17', wms_main_layer_name='consecutive_dry_days_index_per_time_period', uncertainty_upper_bounds_coverage_configuration_id=None, id=UUID('d04c8d32-277b-4d50-ba68-02836523c3af'), unit='gg', display_name_english=None, palette='default/div-BrBG-inv', display_name_italian=None, color_scale_min=-40.0, description_english=None, color_scale_max=40.0, description_italian=None, observation_variable_id=None, coverage_id_pattern='{name}-{scenario}-{time_window}-{year_period}'), identifier='cdd_30yr_anomaly_annual_model_ec_earth_cclm4_8_17-rcp26-tw1-MAM'),\n",
       "  CoverageInternal(configuration=CoverageConfiguration(netcdf_main_dataset_name='cdd', observation_variable_aggregation_type=None, thredds_url_pattern='indici5rcm/clipped/eca_cdd_an_EC-EARTH_CCLM4-8-17_{scenario}_{year_period}_{time_window}_ls_VFVGTAA.nc', uncertainty_lower_bounds_coverage_configuration_id=None, name='cdd_30yr_anomaly_annual_model_ec_earth_cclm4_8_17', wms_main_layer_name='consecutive_dry_days_index_per_time_period', uncertainty_upper_bounds_coverage_configuration_id=None, id=UUID('d04c8d32-277b-4d50-ba68-02836523c3af'), unit='gg', display_name_english=None, palette='default/div-BrBG-inv', display_name_italian=None, color_scale_min=-40.0, description_english=None, color_scale_max=40.0, description_italian=None, observation_variable_id=None, coverage_id_pattern='{name}-{scenario}-{time_window}-{year_period}'), identifier='cdd_30yr_anomaly_annual_model_ec_earth_cclm4_8_17-rcp26-tw1-JJA'),\n",
       "  CoverageInternal(configuration=CoverageConfiguration(netcdf_main_dataset_name='cdd', observation_variable_aggregation_type=None, thredds_url_pattern='indici5rcm/clipped/eca_cdd_an_EC-EARTH_CCLM4-8-17_{scenario}_{year_period}_{time_window}_ls_VFVGTAA.nc', uncertainty_lower_bounds_coverage_configuration_id=None, name='cdd_30yr_anomaly_annual_model_ec_earth_cclm4_8_17', wms_main_layer_name='consecutive_dry_days_index_per_time_period', uncertainty_upper_bounds_coverage_configuration_id=None, id=UUID('d04c8d32-277b-4d50-ba68-02836523c3af'), unit='gg', display_name_english=None, palette='default/div-BrBG-inv', display_name_italian=None, color_scale_min=-40.0, description_english=None, color_scale_max=40.0, description_italian=None, observation_variable_id=None, coverage_id_pattern='{name}-{scenario}-{time_window}-{year_period}'), identifier='cdd_30yr_anomaly_annual_model_ec_earth_cclm4_8_17-rcp26-tw1-SON'),\n",
       "  CoverageInternal(configuration=CoverageConfiguration(netcdf_main_dataset_name='cdd', observation_variable_aggregation_type=None, thredds_url_pattern='indici5rcm/clipped/eca_cdd_an_EC-EARTH_CCLM4-8-17_{scenario}_{year_period}_{time_window}_ls_VFVGTAA.nc', uncertainty_lower_bounds_coverage_configuration_id=None, name='cdd_30yr_anomaly_annual_model_ec_earth_cclm4_8_17', wms_main_layer_name='consecutive_dry_days_index_per_time_period', uncertainty_upper_bounds_coverage_configuration_id=None, id=UUID('d04c8d32-277b-4d50-ba68-02836523c3af'), unit='gg', display_name_english=None, palette='default/div-BrBG-inv', display_name_italian=None, color_scale_min=-40.0, description_english=None, color_scale_max=40.0, description_italian=None, observation_variable_id=None, coverage_id_pattern='{name}-{scenario}-{time_window}-{year_period}'), identifier='cdd_30yr_anomaly_annual_model_ec_earth_cclm4_8_17-rcp26-tw2-DJF'),\n",
       "  CoverageInternal(configuration=CoverageConfiguration(netcdf_main_dataset_name='cdd', observation_variable_aggregation_type=None, thredds_url_pattern='indici5rcm/clipped/eca_cdd_an_EC-EARTH_CCLM4-8-17_{scenario}_{year_period}_{time_window}_ls_VFVGTAA.nc', uncertainty_lower_bounds_coverage_configuration_id=None, name='cdd_30yr_anomaly_annual_model_ec_earth_cclm4_8_17', wms_main_layer_name='consecutive_dry_days_index_per_time_period', uncertainty_upper_bounds_coverage_configuration_id=None, id=UUID('d04c8d32-277b-4d50-ba68-02836523c3af'), unit='gg', display_name_english=None, palette='default/div-BrBG-inv', display_name_italian=None, color_scale_min=-40.0, description_english=None, color_scale_max=40.0, description_italian=None, observation_variable_id=None, coverage_id_pattern='{name}-{scenario}-{time_window}-{year_period}'), identifier='cdd_30yr_anomaly_annual_model_ec_earth_cclm4_8_17-rcp26-tw2-MAM'),\n",
       "  CoverageInternal(configuration=CoverageConfiguration(netcdf_main_dataset_name='cdd', observation_variable_aggregation_type=None, thredds_url_pattern='indici5rcm/clipped/eca_cdd_an_EC-EARTH_CCLM4-8-17_{scenario}_{year_period}_{time_window}_ls_VFVGTAA.nc', uncertainty_lower_bounds_coverage_configuration_id=None, name='cdd_30yr_anomaly_annual_model_ec_earth_cclm4_8_17', wms_main_layer_name='consecutive_dry_days_index_per_time_period', uncertainty_upper_bounds_coverage_configuration_id=None, id=UUID('d04c8d32-277b-4d50-ba68-02836523c3af'), unit='gg', display_name_english=None, palette='default/div-BrBG-inv', display_name_italian=None, color_scale_min=-40.0, description_english=None, color_scale_max=40.0, description_italian=None, observation_variable_id=None, coverage_id_pattern='{name}-{scenario}-{time_window}-{year_period}'), identifier='cdd_30yr_anomaly_annual_model_ec_earth_cclm4_8_17-rcp26-tw2-JJA'),\n",
       "  CoverageInternal(configuration=CoverageConfiguration(netcdf_main_dataset_name='cdd', observation_variable_aggregation_type=None, thredds_url_pattern='indici5rcm/clipped/eca_cdd_an_EC-EARTH_CCLM4-8-17_{scenario}_{year_period}_{time_window}_ls_VFVGTAA.nc', uncertainty_lower_bounds_coverage_configuration_id=None, name='cdd_30yr_anomaly_annual_model_ec_earth_cclm4_8_17', wms_main_layer_name='consecutive_dry_days_index_per_time_period', uncertainty_upper_bounds_coverage_configuration_id=None, id=UUID('d04c8d32-277b-4d50-ba68-02836523c3af'), unit='gg', display_name_english=None, palette='default/div-BrBG-inv', display_name_italian=None, color_scale_min=-40.0, description_english=None, color_scale_max=40.0, description_italian=None, observation_variable_id=None, coverage_id_pattern='{name}-{scenario}-{time_window}-{year_period}'), identifier='cdd_30yr_anomaly_annual_model_ec_earth_cclm4_8_17-rcp26-tw2-SON'),\n",
       "  CoverageInternal(configuration=CoverageConfiguration(netcdf_main_dataset_name='cdd', observation_variable_aggregation_type=None, thredds_url_pattern='indici5rcm/clipped/eca_cdd_an_EC-EARTH_RACMO22E_{scenario}_{year_period}_{time_window}_ls_VFVGTAA.nc', uncertainty_lower_bounds_coverage_configuration_id=None, name='cdd_30yr_anomaly_annual_model_ec_earth_racmo22e', wms_main_layer_name='consecutive_dry_days_index_per_time_period', uncertainty_upper_bounds_coverage_configuration_id=None, id=UUID('bb1697d1-d3bd-46aa-88be-f912a0c39ab9'), unit='gg', display_name_english=None, palette='default/div-BrBG-inv', display_name_italian=None, color_scale_min=-40.0, description_english=None, color_scale_max=40.0, description_italian=None, observation_variable_id=None, coverage_id_pattern='{name}-{scenario}-{time_window}-{year_period}'), identifier='cdd_30yr_anomaly_annual_model_ec_earth_racmo22e-rcp26-tw1-DJF'),\n",
       "  CoverageInternal(configuration=CoverageConfiguration(netcdf_main_dataset_name='cdd', observation_variable_aggregation_type=None, thredds_url_pattern='indici5rcm/clipped/eca_cdd_an_EC-EARTH_RACMO22E_{scenario}_{year_period}_{time_window}_ls_VFVGTAA.nc', uncertainty_lower_bounds_coverage_configuration_id=None, name='cdd_30yr_anomaly_annual_model_ec_earth_racmo22e', wms_main_layer_name='consecutive_dry_days_index_per_time_period', uncertainty_upper_bounds_coverage_configuration_id=None, id=UUID('bb1697d1-d3bd-46aa-88be-f912a0c39ab9'), unit='gg', display_name_english=None, palette='default/div-BrBG-inv', display_name_italian=None, color_scale_min=-40.0, description_english=None, color_scale_max=40.0, description_italian=None, observation_variable_id=None, coverage_id_pattern='{name}-{scenario}-{time_window}-{year_period}'), identifier='cdd_30yr_anomaly_annual_model_ec_earth_racmo22e-rcp26-tw1-MAM'),\n",
       "  CoverageInternal(configuration=CoverageConfiguration(netcdf_main_dataset_name='cdd', observation_variable_aggregation_type=None, thredds_url_pattern='indici5rcm/clipped/eca_cdd_an_EC-EARTH_RACMO22E_{scenario}_{year_period}_{time_window}_ls_VFVGTAA.nc', uncertainty_lower_bounds_coverage_configuration_id=None, name='cdd_30yr_anomaly_annual_model_ec_earth_racmo22e', wms_main_layer_name='consecutive_dry_days_index_per_time_period', uncertainty_upper_bounds_coverage_configuration_id=None, id=UUID('bb1697d1-d3bd-46aa-88be-f912a0c39ab9'), unit='gg', display_name_english=None, palette='default/div-BrBG-inv', display_name_italian=None, color_scale_min=-40.0, description_english=None, color_scale_max=40.0, description_italian=None, observation_variable_id=None, coverage_id_pattern='{name}-{scenario}-{time_window}-{year_period}'), identifier='cdd_30yr_anomaly_annual_model_ec_earth_racmo22e-rcp26-tw1-JJA'),\n",
       "  CoverageInternal(configuration=CoverageConfiguration(netcdf_main_dataset_name='cdd', observation_variable_aggregation_type=None, thredds_url_pattern='indici5rcm/clipped/eca_cdd_an_EC-EARTH_RACMO22E_{scenario}_{year_period}_{time_window}_ls_VFVGTAA.nc', uncertainty_lower_bounds_coverage_configuration_id=None, name='cdd_30yr_anomaly_annual_model_ec_earth_racmo22e', wms_main_layer_name='consecutive_dry_days_index_per_time_period', uncertainty_upper_bounds_coverage_configuration_id=None, id=UUID('bb1697d1-d3bd-46aa-88be-f912a0c39ab9'), unit='gg', display_name_english=None, palette='default/div-BrBG-inv', display_name_italian=None, color_scale_min=-40.0, description_english=None, color_scale_max=40.0, description_italian=None, observation_variable_id=None, coverage_id_pattern='{name}-{scenario}-{time_window}-{year_period}'), identifier='cdd_30yr_anomaly_annual_model_ec_earth_racmo22e-rcp26-tw1-SON')],\n",
       " None)"
      ]
     },
     "execution_count": 7,
     "metadata": {},
     "output_type": "execute_result"
    }
   ],
   "source": [
    "db.list_coverage_identifiers(\n",
    "    session,\n",
    "    matching_configuration_parameters=[\n",
    "        db.get_configuration_parameter_value_by_names(session, \"scenario\", \"rcp26\"),\n",
    "        db.get_configuration_parameter_value_by_names(session, \"climatological_model\", \"model_ensemble\"),\n",
    "    ]\n",
    ")"
   ]
  },
  {
   "cell_type": "code",
   "execution_count": 3,
   "id": "4ac51747-ee8e-468a-a791-5f815b80286a",
   "metadata": {},
   "outputs": [
    {
     "data": {
      "text/plain": [
       "'{name}-{climatological_model}-{measure}-{scenario}-{year_period}'"
      ]
     },
     "execution_count": 3,
     "metadata": {},
     "output_type": "execute_result"
    }
   ],
   "source": [
    "cov.configuration.coverage_id_pattern"
   ]
  },
  {
   "cell_type": "code",
   "execution_count": 4,
   "id": "705a7335-18df-474e-912a-8bd6dfca940d",
   "metadata": {},
   "outputs": [
    {
     "data": {
      "text/plain": [
       "{'climatological_model': 'model_ensemble',\n",
       " 'measure': 'absolute',\n",
       " 'scenario': 'rcp26',\n",
       " 'year_period': 'DJF'}"
      ]
     },
     "execution_count": 4,
     "metadata": {},
     "output_type": "execute_result"
    }
   ],
   "source": [
    "cov.configuration.retrieve_configuration_parameters(cov.identifier)"
   ]
  },
  {
   "cell_type": "code",
   "execution_count": 5,
   "id": "db7e48fd-98fb-439e-8291-a9fd005aec21",
   "metadata": {},
   "outputs": [
    {
     "data": {
      "text/plain": [
       "[ConfigurationParameterPossibleValue(configuration_parameter_value_id=UUID('c5381cd2-ca57-48a9-a096-71568e812366'), coverage_configuration_id=UUID('06c104d2-a502-400b-9728-b8e2d9ee65d9')),\n",
       " ConfigurationParameterPossibleValue(configuration_parameter_value_id=UUID('88fa9565-8af6-4ab5-afeb-bfa00cd97955'), coverage_configuration_id=UUID('06c104d2-a502-400b-9728-b8e2d9ee65d9')),\n",
       " ConfigurationParameterPossibleValue(configuration_parameter_value_id=UUID('70c82437-5e90-4181-96c7-262a097d18ba'), coverage_configuration_id=UUID('06c104d2-a502-400b-9728-b8e2d9ee65d9')),\n",
       " ConfigurationParameterPossibleValue(configuration_parameter_value_id=UUID('4842fa35-b13a-446d-ad9f-43a45b82bd23'), coverage_configuration_id=UUID('06c104d2-a502-400b-9728-b8e2d9ee65d9'))]"
      ]
     },
     "execution_count": 5,
     "metadata": {},
     "output_type": "execute_result"
    }
   ],
   "source": [
    "cov.configuration.retrieve_used_values(cov.identifier)"
   ]
  },
  {
   "cell_type": "code",
   "execution_count": 7,
   "id": "5dd3f90c-fc59-4bec-a613-2297537f190f",
   "metadata": {},
   "outputs": [
    {
     "data": {
      "text/plain": [
       "'ensymbc/clipped/tas_avg_rcp26_DJF_ts19762100_ls_VFVG.nc'"
      ]
     },
     "execution_count": 7,
     "metadata": {},
     "output_type": "execute_result"
    }
   ],
   "source": [
    "cov.configuration.get_thredds_url_fragment(cov.identifier)"
   ]
  },
  {
   "cell_type": "code",
   "execution_count": 6,
   "id": "9f396350-e5ea-455c-a636-87fd763f3d89",
   "metadata": {},
   "outputs": [
    {
     "data": {
      "text/plain": [
       "'tas_seasonal_absolute_model_ensemble-model_ensemble-absolute-rcp26-DJF'"
      ]
     },
     "execution_count": 6,
     "metadata": {},
     "output_type": "execute_result"
    }
   ],
   "source": [
    "cov.configuration.build_coverage_identifier(\n",
    "    parameters=[\n",
    "        db.get_configuration_parameter_value_by_names(session, \"climatological_model\", \"model_ensemble\"),\n",
    "        db.get_configuration_parameter_value_by_names(session, \"measure\", \"absolute\"),\n",
    "        db.get_configuration_parameter_value_by_names(session, \"scenario\", \"rcp26\"),\n",
    "        db.get_configuration_parameter_value_by_names(session, \"year_period\", \"DJF\"),\n",
    "    ]\n",
    ")"
   ]
  },
  {
   "cell_type": "code",
   "execution_count": 7,
   "id": "ec2c0ead-cd94-46d5-bacc-67ab35a0238f",
   "metadata": {},
   "outputs": [
    {
     "data": {
      "text/plain": [
       "<Season.WINTER: 'WINTER'>"
      ]
     },
     "execution_count": 7,
     "metadata": {},
     "output_type": "execute_result"
    }
   ],
   "source": [
    "cov.configuration.get_seasonal_aggregation_query_filter(coverage_identifier)"
   ]
  },
  {
   "cell_type": "code",
   "execution_count": 9,
   "id": "02edb671-e3da-4834-b3b6-0284428c89d8",
   "metadata": {},
   "outputs": [
    {
     "data": {
      "text/plain": [
       "['tas_seasonal_absolute_model_ensemble-model_ensemble-absolute-rcp26-DJF',\n",
       " 'tas_seasonal_absolute_model_ensemble-model_ensemble-absolute-rcp26-MAM',\n",
       " 'tas_seasonal_absolute_model_ensemble-model_ensemble-absolute-rcp26-JJA',\n",
       " 'tas_seasonal_absolute_model_ensemble-model_ensemble-absolute-rcp26-SON',\n",
       " 'tas_seasonal_absolute_model_ensemble-model_ensemble-absolute-rcp45-DJF',\n",
       " 'tas_seasonal_absolute_model_ensemble-model_ensemble-absolute-rcp45-MAM',\n",
       " 'tas_seasonal_absolute_model_ensemble-model_ensemble-absolute-rcp45-JJA',\n",
       " 'tas_seasonal_absolute_model_ensemble-model_ensemble-absolute-rcp45-SON',\n",
       " 'tas_seasonal_absolute_model_ensemble-model_ensemble-absolute-rcp85-DJF',\n",
       " 'tas_seasonal_absolute_model_ensemble-model_ensemble-absolute-rcp85-MAM',\n",
       " 'tas_seasonal_absolute_model_ensemble-model_ensemble-absolute-rcp85-JJA',\n",
       " 'tas_seasonal_absolute_model_ensemble-model_ensemble-absolute-rcp85-SON']"
      ]
     },
     "execution_count": 9,
     "metadata": {},
     "output_type": "execute_result"
    }
   ],
   "source": [
    "db.list_allowed_coverage_identifiers(session, coverage_configuration_id=cov.configuration.id)"
   ]
  }
 ],
 "metadata": {
  "kernelspec": {
   "display_name": "Python 3 (ipykernel)",
   "language": "python",
   "name": "python3"
  },
  "language_info": {
   "codemirror_mode": {
    "name": "ipython",
    "version": 3
   },
   "file_extension": ".py",
   "mimetype": "text/x-python",
   "name": "python",
   "nbconvert_exporter": "python",
   "pygments_lexer": "ipython3",
   "version": "3.10.8"
  }
 },
 "nbformat": 4,
 "nbformat_minor": 5
}
