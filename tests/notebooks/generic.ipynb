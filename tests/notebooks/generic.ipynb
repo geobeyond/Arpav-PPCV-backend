{
 "cells": [
  {
   "cell_type": "code",
   "execution_count": 1,
   "id": "dbcc00b1-2fc1-43ff-9549-ebca8cf03262",
   "metadata": {},
   "outputs": [],
   "source": [
    "%matplotlib widget\n",
    "\n",
    "import logging\n",
    "import time\n",
    "\n",
    "import cftime\n",
    "import httpx\n",
    "import matplotlib.pyplot as plt\n",
    "import netCDF4\n",
    "import pandas as pd\n",
    "import shapely.io\n",
    "import sqlmodel\n",
    "from sqlalchemy import (\n",
    "    bindparam, \n",
    "    func\n",
    ")\n",
    "\n",
    "from arpav_ppcv import (\n",
    "    database as db,\n",
    "    operations,\n",
    ")\n",
    "from arpav_ppcv.config import get_settings\n",
    "from arpav_ppcv.schemas.base import (\n",
    "    CoverageDataSmoothingStrategy,\n",
    "    ObservationDataSmoothingStrategy,\n",
    "    ObservationAggregationType,\n",
    "    Season,\n",
    ")\n",
    "from arpav_ppcv.schemas import coverages\n",
    "from arpav_ppcv.schemas.coverages import CoverageInternal\n",
    "\n",
    "logging.basicConfig(level=logging.DEBUG)\n",
    "logging.getLogger(\"httpx\").setLevel(logging.WARNING)\n",
    "logging.getLogger(\"httpcore\").setLevel(logging.WARNING)\n",
    "logging.getLogger(\"matplotlib\").setLevel(logging.WARNING)\n",
    "\n",
    "settings = get_settings()\n",
    "session = sqlmodel.Session(db.get_engine(settings))\n",
    "http_client = httpx.Client()"
   ]
  },
  {
   "cell_type": "code",
   "execution_count": 2,
   "id": "c65166b7-4173-444c-be69-688ff5f6b874",
   "metadata": {},
   "outputs": [],
   "source": [
    "coverage_identifier = \"tas_seasonal_absolute_model_ensemble-model_ensemble-absolute-rcp26-DJF\"\n",
    "point_coords = \"POINT(11.5469 44.9524)\"\n",
    "date_range = \"../..\"\n",
    "\n",
    "cov = CoverageInternal(\n",
    "    configuration=db.get_coverage_configuration_by_coverage_identifier(session, coverage_identifier), \n",
    "    identifier=coverage_identifier\n",
    ")"
   ]
  },
  {
   "cell_type": "code",
   "execution_count": 2,
   "id": "d2de401b-4028-45d2-bf01-4c0cbb806d80",
   "metadata": {},
   "outputs": [],
   "source": [
    "param_values = [\n",
    "    db.get_configuration_parameter_value_by_names(session, \"climatological_model\", \"model_ensemble\"),\n",
    "    db.get_configuration_parameter_value_by_names(session, \"scenario\", \"rcp26\")\n",
    "]"
   ]
  },
  {
   "cell_type": "code",
   "execution_count": 3,
   "id": "f379b854-b318-475f-95c7-82b0a2e48f6b",
   "metadata": {},
   "outputs": [],
   "source": [
    "cov_conf = db.get_coverage_configuration_by_name(session, \"tas_seasonal_absolute_model_ensemble\")"
   ]
  },
  {
   "cell_type": "code",
   "execution_count": 9,
   "id": "46f23579-47c7-4123-a5a0-7368dcaee640",
   "metadata": {},
   "outputs": [
    {
     "data": {
      "text/plain": [
       "'rcp26'"
      ]
     },
     "execution_count": 9,
     "metadata": {},
     "output_type": "execute_result"
    }
   ],
   "source": [
    "cov_conf.possible_values[0].configuration_parameter_value.name"
   ]
  },
  {
   "cell_type": "code",
   "execution_count": 5,
   "id": "d505e1b4-14e9-459a-b942-2226c6bfc82e",
   "metadata": {},
   "outputs": [
    {
     "name": "stderr",
     "output_type": "stream",
     "text": [
      "DEBUG:arpav_ppcv.database:locals()={'session': <sqlmodel.orm.session.Session object at 0x740d65c40730>, 'coverage_configuration': CoverageConfiguration(netcdf_main_dataset_name='tas', observation_variable_aggregation_type=<ObservationAggregationType.SEASONAL: 'SEASONAL'>, thredds_url_pattern='ensymbc/clipped/tas_avg_{scenario}_{year_period}_ts19762100_ls_VFVG.nc', uncertainty_lower_bounds_coverage_configuration_id=UUID('9c2bfa7a-d108-4d2d-8c99-f26ae9329e79'), name='tas_seasonal_absolute_model_ensemble', wms_main_layer_name='tas', uncertainty_upper_bounds_coverage_configuration_id=UUID('d33d6b43-0379-447a-ad9d-b2f36f7dce3e'), id=UUID('06c104d2-a502-400b-9728-b8e2d9ee65d9'), unit='ºC', display_name_english='TAS seasonal absolute model ensemble', palette='default/seq-YlOrRd', display_name_italian='TAS valore assoluto di stagione media ensemble', color_scale_min=-3.0, description_english='TAS seasonal absolute model ensemble', color_scale_max=32.0, description_italian='TAS valore assoluto di stagione media ensemble', observation_variable_id=UUID('32706ce0-0134-4122-91a0-9d6f237350b3'), coverage_id_pattern='{name}-{climatological_model}-{measure}-{scenario}-{year_period}'), 'configuration_parameter_values_filter': [ConfigurationParameterValue(id=UUID('c5381cd2-ca57-48a9-a096-71568e812366'), display_name_italian='Insieme di 5 modelli', description_italian='Insieme di cinque modelli climatologici: EC-EARTH CCLM4-8-17, EC-EARTH RACMO22E, EC-EARTH RCA4, HadGEM RACMO22E, MPI-ESM-LR-REMO2009', display_name_english='5 Model ensemble', name='model_ensemble', description_english='Ensemble of five climatological models: EC-EARTH CCLM4-8-17, EC-EARTH RACMO22E, EC-EARTH RCA4, HadGEM RACMO22E, MPI-ESM-LR-REMO2009', configuration_parameter_id=UUID('d6cfbf61-7f87-43a9-8e04-2c9d275eacc2')), ConfigurationParameterValue(id=UUID('70c82437-5e90-4181-96c7-262a097d18ba'), display_name_italian='RCP2.6', description_italian='Scenario Representation Concentration Pathway (RCP) che presuppone valori di forzante climatica di 2,6 W/m2', display_name_english='RCP2.6', name='rcp26', description_english='Representation Concentration Pathway (RCP) scenario that assumes climate forcing values of 2.6 W/m2', configuration_parameter_id=UUID('92bbb178-334f-4f30-bf2c-fb7cba7cd7e0'))]}\n",
      "DEBUG:arpav_ppcv.database:pattern_parts=['climatological_model', 'measure', 'scenario', 'year_period']\n"
     ]
    },
    {
     "data": {
      "text/plain": [
       "['tas_seasonal_absolute_model_ensemble-model_ensemble-measure-rcp26-year_period']"
      ]
     },
     "execution_count": 5,
     "metadata": {},
     "output_type": "execute_result"
    }
   ],
   "source": [
    "db.generate_coverage_identifiers(session, coverage_configuration=cov_conf, configuration_parameter_values_filter=param_values)"
   ]
  },
  {
   "cell_type": "code",
   "execution_count": 7,
   "id": "978549f0-e1d6-415c-833b-3169b7448920",
   "metadata": {},
   "outputs": [
    {
     "data": {
      "text/plain": [
       "([CoverageConfiguration(netcdf_main_dataset_name='tas', observation_variable_aggregation_type=<ObservationAggregationType.SEASONAL: 'SEASONAL'>, thredds_url_pattern='ensymbc/clipped/tas_avg_{scenario}_{year_period}_ts19762100_ls_VFVG.nc', uncertainty_lower_bounds_coverage_configuration_id=UUID('9c2bfa7a-d108-4d2d-8c99-f26ae9329e79'), name='tas_seasonal_absolute_model_ensemble', wms_main_layer_name='tas', uncertainty_upper_bounds_coverage_configuration_id=UUID('d33d6b43-0379-447a-ad9d-b2f36f7dce3e'), id=UUID('06c104d2-a502-400b-9728-b8e2d9ee65d9'), unit='ºC', display_name_english='TAS seasonal absolute model ensemble', palette='default/seq-YlOrRd', display_name_italian='TAS valore assoluto di stagione media ensemble', color_scale_min=-3.0, description_english='TAS seasonal absolute model ensemble', color_scale_max=32.0, description_italian='TAS valore assoluto di stagione media ensemble', observation_variable_id=UUID('32706ce0-0134-4122-91a0-9d6f237350b3'), coverage_id_pattern='{name}-{climatological_model}-{measure}-{scenario}-{year_period}')],\n",
       " None)"
      ]
     },
     "execution_count": 7,
     "metadata": {},
     "output_type": "execute_result"
    }
   ],
   "source": [
    "db.list_coverage_configurations(session, configuration_parameter_value_filter=param_values)"
   ]
  },
  {
   "cell_type": "code",
   "execution_count": 29,
   "id": "d15772a0-a1c1-4258-9f2f-4402d074cbee",
   "metadata": {},
   "outputs": [],
   "source": [
    "pv_cte = (\n",
    "     sqlmodel\n",
    "            .select(\n",
    "                coverages.CoverageConfiguration.id,\n",
    "                func.jsonb_agg(\n",
    "                    func.json_build_object(\n",
    "                        coverages.ConfigurationParameter.name,\n",
    "                        coverages.ConfigurationParameterValue.name,\n",
    "                    )\n",
    "                ).label(\"possible_values\")\n",
    "            )\n",
    "            .join(\n",
    "                coverages.ConfigurationParameterPossibleValue,\n",
    "                coverages.CoverageConfiguration.id ==\n",
    "                coverages.ConfigurationParameterPossibleValue.coverage_configuration_id\n",
    "            )\n",
    "            .join(\n",
    "                coverages.ConfigurationParameterValue,\n",
    "                coverages.ConfigurationParameterValue.id ==\n",
    "                coverages.ConfigurationParameterPossibleValue.configuration_parameter_value_id\n",
    "            )\n",
    "            .join(\n",
    "                coverages.ConfigurationParameter,\n",
    "                coverages.ConfigurationParameter.id ==\n",
    "                coverages.ConfigurationParameterValue.configuration_parameter_id\n",
    "            ).group_by(coverages.CoverageConfiguration.id)\n",
    ").cte(\"cov_conf_possible_values\")"
   ]
  },
  {
   "cell_type": "code",
   "execution_count": 30,
   "id": "74f05366-c299-4964-8efe-de36cfe61de4",
   "metadata": {},
   "outputs": [
    {
     "name": "stdout",
     "output_type": "stream",
     "text": [
      "SELECT coverageconfiguration.id, jsonb_agg(json_build_object(configurationparameter.name, configurationparametervalue.name)) AS possible_values \n",
      "FROM coverageconfiguration JOIN configurationparameterpossiblevalue ON coverageconfiguration.id = configurationparameterpossiblevalue.coverage_configuration_id JOIN configurationparametervalue ON configurationparametervalue.id = configurationparameterpossiblevalue.configuration_parameter_value_id JOIN configurationparameter ON configurationparameter.id = configurationparametervalue.configuration_parameter_id GROUP BY coverageconfiguration.id\n"
     ]
    }
   ],
   "source": [
    "print(pv_cte)"
   ]
  },
  {
   "cell_type": "code",
   "execution_count": 39,
   "id": "f7966b1d-9d38-4b05-a5ae-ab21a5c0f8b9",
   "metadata": {},
   "outputs": [],
   "source": [
    "pvs = {\n",
    "    \"climatological_model\": \"model_ensemble\",\n",
    "    \"scenario\": \"rcp26\"\n",
    "}"
   ]
  },
  {
   "cell_type": "code",
   "execution_count": 38,
   "id": "8288a6f8-257d-49b6-a7a6-04b429b15615",
   "metadata": {},
   "outputs": [],
   "source": [
    "statement = (\n",
    "    sqlmodel.select(coverages.CoverageConfiguration)\n",
    "    .join(pv_cte, pv_cte.c.id == coverages.CoverageConfiguration.id)\n",
    "    .where(func.jsonb_path_exists(pv_cte.c.possible_values, '$[*] ? (@.climatological_model == \"model_ensemble\")'))\n",
    "    .where(func.jsonb_path_exists(pv_cte.c.possible_values, '$[*] ? (@.scenario == \"rcp26\")'))\n",
    ")"
   ]
  },
  {
   "cell_type": "code",
   "execution_count": 40,
   "id": "d1446147-b649-4fdf-b0e6-da0c0a23611e",
   "metadata": {},
   "outputs": [],
   "source": [
    "statement = (\n",
    "    sqlmodel.select(coverages.CoverageConfiguration)\n",
    "    .join(pv_cte, pv_cte.c.id == coverages.CoverageConfiguration.id)\n",
    ")"
   ]
  },
  {
   "cell_type": "code",
   "execution_count": 41,
   "id": "035e71d5-3729-4f3f-9c5b-b94e18afae82",
   "metadata": {},
   "outputs": [],
   "source": [
    "for value_name, value in pvs.items():\n",
    "    statement = (\n",
    "        statement\n",
    "        .where(func.jsonb_path_exists(pv_cte.c.possible_values, f'$[*] ? (@.{value_name} == \"{value}\")'))\n",
    "    )"
   ]
  },
  {
   "cell_type": "code",
   "execution_count": 42,
   "id": "72889317-a72d-4417-92d1-65694d953fd9",
   "metadata": {},
   "outputs": [
    {
     "name": "stdout",
     "output_type": "stream",
     "text": [
      "WITH cov_conf_possible_values AS \n",
      "(SELECT coverageconfiguration.id AS id, jsonb_agg(json_build_object(configurationparameter.name, configurationparametervalue.name)) AS possible_values \n",
      "FROM coverageconfiguration JOIN configurationparameterpossiblevalue ON coverageconfiguration.id = configurationparameterpossiblevalue.coverage_configuration_id JOIN configurationparametervalue ON configurationparametervalue.id = configurationparameterpossiblevalue.configuration_parameter_value_id JOIN configurationparameter ON configurationparameter.id = configurationparametervalue.configuration_parameter_id GROUP BY coverageconfiguration.id)\n",
      " SELECT coverageconfiguration.id, coverageconfiguration.name, coverageconfiguration.display_name_english, coverageconfiguration.display_name_italian, coverageconfiguration.description_english, coverageconfiguration.description_italian, coverageconfiguration.netcdf_main_dataset_name, coverageconfiguration.thredds_url_pattern, coverageconfiguration.wms_main_layer_name, coverageconfiguration.unit, coverageconfiguration.palette, coverageconfiguration.color_scale_min, coverageconfiguration.color_scale_max, coverageconfiguration.observation_variable_id, coverageconfiguration.observation_variable_aggregation_type, coverageconfiguration.uncertainty_lower_bounds_coverage_configuration_id, coverageconfiguration.uncertainty_upper_bounds_coverage_configuration_id \n",
      "FROM coverageconfiguration JOIN cov_conf_possible_values ON cov_conf_possible_values.id = coverageconfiguration.id \n",
      "WHERE jsonb_path_exists(cov_conf_possible_values.possible_values, '$[*] ? (@.climatological_model == \"model_ensemble\")') AND jsonb_path_exists(cov_conf_possible_values.possible_values, '$[*] ? (@.scenario == \"rcp26\")')\n"
     ]
    }
   ],
   "source": [
    "print(statement.compile(db.get_engine(settings), compile_kwargs={\"literal_binds\": True}))"
   ]
  },
  {
   "cell_type": "code",
   "execution_count": 43,
   "id": "867b4a0f-232f-4c93-b7e6-ebccdb36af9d",
   "metadata": {},
   "outputs": [],
   "source": [
    "session.rollback()"
   ]
  },
  {
   "cell_type": "code",
   "execution_count": 44,
   "id": "878c6ea7-8946-4779-925a-c89db88703f1",
   "metadata": {},
   "outputs": [
    {
     "data": {
      "text/plain": [
       "[CoverageConfiguration(description_english='TAS seasonal absolute model ensemble', color_scale_max=32.0, description_italian='TAS valore assoluto di stagione media ensemble', observation_variable_id=UUID('32706ce0-0134-4122-91a0-9d6f237350b3'), netcdf_main_dataset_name='tas', observation_variable_aggregation_type=<ObservationAggregationType.SEASONAL: 'SEASONAL'>, thredds_url_pattern='ensymbc/clipped/tas_avg_{scenario}_{year_period}_ts19762100_ls_VFVG.nc', uncertainty_lower_bounds_coverage_configuration_id=UUID('9c2bfa7a-d108-4d2d-8c99-f26ae9329e79'), name='tas_seasonal_absolute_model_ensemble', wms_main_layer_name='tas', uncertainty_upper_bounds_coverage_configuration_id=UUID('d33d6b43-0379-447a-ad9d-b2f36f7dce3e'), id=UUID('06c104d2-a502-400b-9728-b8e2d9ee65d9'), unit='ºC', display_name_english='TAS seasonal absolute model ensemble', palette='default/seq-YlOrRd', display_name_italian='TAS valore assoluto di stagione media ensemble', color_scale_min=-3.0, coverage_id_pattern='{name}-{climatological_model}-{measure}-{scenario}-{year_period}')]"
      ]
     },
     "execution_count": 44,
     "metadata": {},
     "output_type": "execute_result"
    }
   ],
   "source": [
    "session.exec(statement).all()"
   ]
  }
 ],
 "metadata": {
  "kernelspec": {
   "display_name": "Python 3 (ipykernel)",
   "language": "python",
   "name": "python3"
  },
  "language_info": {
   "codemirror_mode": {
    "name": "ipython",
    "version": 3
   },
   "file_extension": ".py",
   "mimetype": "text/x-python",
   "name": "python",
   "nbconvert_exporter": "python",
   "pygments_lexer": "ipython3",
   "version": "3.10.8"
  }
 },
 "nbformat": 4,
 "nbformat_minor": 5
}
