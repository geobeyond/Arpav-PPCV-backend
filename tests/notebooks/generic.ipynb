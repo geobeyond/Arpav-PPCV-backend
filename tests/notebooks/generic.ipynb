{
 "cells": [
  {
   "cell_type": "code",
   "execution_count": 1,
   "id": "dbcc00b1-2fc1-43ff-9549-ebca8cf03262",
   "metadata": {},
   "outputs": [],
   "source": [
    "%matplotlib widget\n",
    "\n",
    "import logging\n",
    "import time\n",
    "\n",
    "import cftime\n",
    "import httpx\n",
    "import matplotlib.pyplot as plt\n",
    "import netCDF4\n",
    "import pandas as pd\n",
    "import shapely.io\n",
    "import sqlmodel\n",
    "from sqlalchemy import (\n",
    "    bindparam, \n",
    "    func\n",
    ")\n",
    "\n",
    "from arpav_ppcv import (\n",
    "    database as db,\n",
    "    operations,\n",
    ")\n",
    "from arpav_ppcv.config import get_settings\n",
    "from arpav_ppcv.schemas.base import (\n",
    "    CoverageDataSmoothingStrategy,\n",
    "    ObservationDataSmoothingStrategy,\n",
    "    ObservationAggregationType,\n",
    "    Season,\n",
    ")\n",
    "from arpav_ppcv.schemas import coverages\n",
    "from arpav_ppcv.schemas.coverages import CoverageInternal\n",
    "from arpav_ppcv.schemas import observations\n",
    "\n",
    "logging.basicConfig(level=logging.DEBUG)\n",
    "logging.getLogger(\"httpx\").setLevel(logging.WARNING)\n",
    "logging.getLogger(\"httpcore\").setLevel(logging.WARNING)\n",
    "logging.getLogger(\"matplotlib\").setLevel(logging.WARNING)\n",
    "\n",
    "settings = get_settings()\n",
    "session = sqlmodel.Session(db.get_engine(settings))\n",
    "http_client = httpx.Client()"
   ]
  },
  {
   "cell_type": "code",
   "execution_count": 8,
   "id": "839244fc-728f-47b3-9a72-a1011b87b38a",
   "metadata": {},
   "outputs": [],
   "source": [
    "cov_id = \"tdd_annual_seasonal-annual-historical-absolute-tdd-S03\"\n",
    "cov = CoverageInternal(\n",
    "    identifier=cov_id,\n",
    "    configuration=db.get_coverage_configuration_by_coverage_identifier(session, cov_id)\n",
    ")"
   ]
  },
  {
   "cell_type": "code",
   "execution_count": 9,
   "id": "c858f2e6-2ec5-4256-ba40-6ab4b13220d0",
   "metadata": {},
   "outputs": [
    {
     "data": {
      "text/plain": [
       "'{name}-{aggregation_period}-{collection}-{measure}-{observation_variable}-{observation_year_period}'"
      ]
     },
     "execution_count": 9,
     "metadata": {},
     "output_type": "execute_result"
    }
   ],
   "source": [
    "cov.configuration.coverage_id_pattern"
   ]
  },
  {
   "cell_type": "code",
   "execution_count": 10,
   "id": "b3cdcb69-b927-4626-b272-990e613dc69f",
   "metadata": {},
   "outputs": [
    {
     "data": {
      "text/plain": [
       "'cline_yr/TDd_S03_1992-202[34]_py85.nc'"
      ]
     },
     "execution_count": 10,
     "metadata": {},
     "output_type": "execute_result"
    }
   ],
   "source": [
    "cov.configuration.get_thredds_url_fragment(cov.identifier)"
   ]
  },
  {
   "cell_type": "code",
   "execution_count": 11,
   "id": "79bc5d69-33d6-4d31-b5e7-efcd32684bba",
   "metadata": {},
   "outputs": [],
   "source": [
    "from arpav_ppcv.thredds import crawler"
   ]
  },
  {
   "cell_type": "code",
   "execution_count": 12,
   "id": "bd2f556b-79ca-474b-b5ff-313693075762",
   "metadata": {},
   "outputs": [
    {
     "data": {
      "text/plain": [
       "'cline_yr/TDd_S03_1992-2023_py85.nc'"
      ]
     },
     "execution_count": 12,
     "metadata": {},
     "output_type": "execute_result"
    }
   ],
   "source": [
    "await crawler.find_thredds_dataset_url_fragment(\n",
    "    httpx.AsyncClient(),\n",
    "    cov.configuration.get_thredds_url_fragment(cov.identifier),\n",
    "    \"https://thredds.arpa.veneto.it/thredds\"\n",
    ")"
   ]
  },
  {
   "cell_type": "code",
   "execution_count": 12,
   "id": "b7cd9b69-5f3c-43a1-aa4e-93de2899980d",
   "metadata": {},
   "outputs": [],
   "source": [
    "import fnmatch\n",
    "from xml.etree import ElementTree as etree"
   ]
  },
  {
   "cell_type": "code",
   "execution_count": 6,
   "id": "3a892986-bef1-4c74-ad76-db0721d2169e",
   "metadata": {},
   "outputs": [
    {
     "data": {
      "text/plain": [
       "'http://thredds:8080/thredds'"
      ]
     },
     "execution_count": 6,
     "metadata": {},
     "output_type": "execute_result"
    }
   ],
   "source": [
    "settings.thredds_server.base_url"
   ]
  },
  {
   "cell_type": "code",
   "execution_count": 10,
   "id": "367dada5-cc8a-40d9-a529-7717745f2fb2",
   "metadata": {},
   "outputs": [],
   "source": [
    "response = http_client.get(\"https://thredds.arpa.veneto.it/thredds/catalog/cline_yr/catalog.xml\")"
   ]
  },
  {
   "cell_type": "code",
   "execution_count": 33,
   "id": "52b3ae51-7c5a-455b-aa16-201269ea0e3a",
   "metadata": {},
   "outputs": [
    {
     "data": {
      "text/plain": [
       "b'<?xml version=\"1.0\" encoding=\"UTF-8\"?>\\r\\n<catalog xmlns=\"http://www.unidata.ucar.edu/namespaces/thredds/InvCatalog/v1.0\" xmlns:xlink=\"http://www.w3.org/1999/xlink\" version=\"1.2\">\\r\\n  <service name=\"all\" serviceType=\"compound\" base=\"\">\\r\\n    <service name=\"odap\" serviceType=\"OpenDAP\" base=\"/thredds/dodsC/\" />\\r\\n    <service name=\"dap4\" serviceType=\"DAP4\" base=\"/thredds/dap4/\" />\\r\\n    <service name=\"http\" serviceType=\"HTTPServer\" base=\"/thredds/fileServer/\" />\\r\\n    <service name=\"wcs\" serviceType=\"WCS\" base=\"/thredds/wcs/\" />\\r\\n    <service name=\"wms\" serviceType=\"WMS\" base=\"/thredds/wms/\" />\\r\\n    <service name=\"ncssGrid\" serviceType=\"NetcdfSubset\" base=\"/thredds/ncss/grid/\" />\\r\\n  </service>\\r\\n  <dataset name=\"CLINE annuali\">\\r\\n    <property name=\"DatasetScan\" value=\"true\" />\\r\\n    <metadata inherited=\"true\">\\r\\n      <serviceName>all</serviceName>\\r\\n      <authority>Arpav</authority>\\r\\n      <dataType>Grid</dataType>\\r\\n    </metadata>\\r\\n    <dataset name=\"CDD_jrc_A00_1992-2023_py85.nc\" ID=\"cline_yr/CDD_jrc_A00_1992-2023_py85.nc\" urlPath=\"cline_yr/CDD_jrc_A00_1992-2023_py85.nc\">\\r\\n      <dataSize units=\"Mbytes\">5.393</dataSize>\\r\\n      <date type=\"modified\">2024-08-06T10:58:53.924Z</date>\\r\\n    </dataset>\\r\\n    <dataset name=\"FD_A00_1992-2023_py85.nc\" ID=\"cline_yr/FD_A00_1992-2023_py85.nc\" urlPath=\"cline_yr/FD_A00_1992-2023_py85.nc\">\\r\\n      <dataSize units=\"Mbytes\">5.393</dataSize>\\r\\n      <date type=\"modified\">2024-08-06T10:58:55.515Z</date>\\r\\n    </dataset>\\r\\n    <dataset name=\"HDD_it_A00_1992-2023_py85.nc\" ID=\"cline_yr/HDD_it_A00_1992-2023_py85.nc\" urlPath=\"cline_yr/HDD_it_A00_1992-2023_py85.nc\">\\r\\n      <dataSize units=\"Mbytes\">5.393</dataSize>\\r\\n      <date type=\"modified\">2024-08-06T10:59:11.749Z</date>\\r\\n    </dataset>\\r\\n    <dataset name=\"PRCPTOT_A00_1992-2023_py85.nc\" ID=\"cline_yr/PRCPTOT_A00_1992-2023_py85.nc\" urlPath=\"cline_yr/PRCPTOT_A00_1992-2023_py85.nc\">\\r\\n      <dataSize units=\"Mbytes\">5.393</dataSize>\\r\\n      <date type=\"modified\">2024-08-06T10:59:25.318Z</date>\\r\\n    </dataset>\\r\\n    <dataset name=\"PRCPTOT_M01_1992-2024_py85.nc\" ID=\"cline_yr/PRCPTOT_M01_1992-2024_py85.nc\" urlPath=\"cline_yr/PRCPTOT_M01_1992-2024_py85.nc\">\\r\\n      <dataSize units=\"Mbytes\">5.561</dataSize>\\r\\n      <date type=\"modified\">2024-08-06T10:59:26.771Z</date>\\r\\n    </dataset>\\r\\n    <dataset name=\"PRCPTOT_M02_1992-2024_py85.nc\" ID=\"cline_yr/PRCPTOT_M02_1992-2024_py85.nc\" urlPath=\"cline_yr/PRCPTOT_M02_1992-2024_py85.nc\">\\r\\n      <dataSize units=\"Mbytes\">5.561</dataSize>\\r\\n      <date type=\"modified\">2024-08-06T10:59:28.345Z</date>\\r\\n    </dataset>\\r\\n    <dataset name=\"PRCPTOT_M03_1992-2024_py85.nc\" ID=\"cline_yr/PRCPTOT_M03_1992-2024_py85.nc\" urlPath=\"cline_yr/PRCPTOT_M03_1992-2024_py85.nc\">\\r\\n      <dataSize units=\"Mbytes\">5.561</dataSize>\\r\\n      <date type=\"modified\">2024-08-06T10:59:30.070Z</date>\\r\\n    </dataset>\\r\\n    <dataset name=\"PRCPTOT_M04_1992-2024_py85.nc\" ID=\"cline_yr/PRCPTOT_M04_1992-2024_py85.nc\" urlPath=\"cline_yr/PRCPTOT_M04_1992-2024_py85.nc\">\\r\\n      <dataSize units=\"Mbytes\">5.561</dataSize>\\r\\n      <date type=\"modified\">2024-08-06T10:59:31.685Z</date>\\r\\n    </dataset>\\r\\n    <dataset name=\"PRCPTOT_M05_1992-2024_py85.nc\" ID=\"cline_yr/PRCPTOT_M05_1992-2024_py85.nc\" urlPath=\"cline_yr/PRCPTOT_M05_1992-2024_py85.nc\">\\r\\n      <dataSize units=\"Mbytes\">5.561</dataSize>\\r\\n      <date type=\"modified\">2024-08-06T10:59:33.258Z</date>\\r\\n    </dataset>\\r\\n    <dataset name=\"PRCPTOT_M06_1991-2024_py85.nc\" ID=\"cline_yr/PRCPTOT_M06_1991-2024_py85.nc\" urlPath=\"cline_yr/PRCPTOT_M06_1991-2024_py85.nc\">\\r\\n      <dataSize units=\"Mbytes\">5.729</dataSize>\\r\\n      <date type=\"modified\">2024-08-06T10:59:34.855Z</date>\\r\\n    </dataset>\\r\\n    <dataset name=\"PRCPTOT_M07_1992-2024_py85.nc\" ID=\"cline_yr/PRCPTOT_M07_1992-2024_py85.nc\" urlPath=\"cline_yr/PRCPTOT_M07_1992-2024_py85.nc\">\\r\\n      <dataSize units=\"Mbytes\">5.561</dataSize>\\r\\n      <date type=\"modified\">2024-08-06T10:59:36.320Z</date>\\r\\n    </dataset>\\r\\n    <dataset name=\"PRCPTOT_M08_1991-2023_py85.nc\" ID=\"cline_yr/PRCPTOT_M08_1991-2023_py85.nc\" urlPath=\"cline_yr/PRCPTOT_M08_1991-2023_py85.nc\">\\r\\n      <dataSize units=\"Mbytes\">5.561</dataSize>\\r\\n      <date type=\"modified\">2024-08-06T10:59:37.767Z</date>\\r\\n    </dataset>\\r\\n    <dataset name=\"PRCPTOT_M09_1991-2023_py85.nc\" ID=\"cline_yr/PRCPTOT_M09_1991-2023_py85.nc\" urlPath=\"cline_yr/PRCPTOT_M09_1991-2023_py85.nc\">\\r\\n      <dataSize units=\"Mbytes\">5.561</dataSize>\\r\\n      <date type=\"modified\">2024-08-06T10:59:38.941Z</date>\\r\\n    </dataset>\\r\\n    <dataset name=\"PRCPTOT_M10_1991-2023_py85.nc\" ID=\"cline_yr/PRCPTOT_M10_1991-2023_py85.nc\" urlPath=\"cline_yr/PRCPTOT_M10_1991-2023_py85.nc\">\\r\\n      <dataSize units=\"Mbytes\">5.561</dataSize>\\r\\n      <date type=\"modified\">2024-08-06T10:59:40.297Z</date>\\r\\n    </dataset>\\r\\n    <dataset name=\"PRCPTOT_M11_1991-2023_py85.nc\" ID=\"cline_yr/PRCPTOT_M11_1991-2023_py85.nc\" urlPath=\"cline_yr/PRCPTOT_M11_1991-2023_py85.nc\">\\r\\n      <dataSize units=\"Mbytes\">5.561</dataSize>\\r\\n      <date type=\"modified\">2024-08-06T10:59:41.699Z</date>\\r\\n    </dataset>\\r\\n    <dataset name=\"PRCPTOT_M12_1991-2023_py85.nc\" ID=\"cline_yr/PRCPTOT_M12_1991-2023_py85.nc\" urlPath=\"cline_yr/PRCPTOT_M12_1991-2023_py85.nc\">\\r\\n      <dataSize units=\"Mbytes\">5.561</dataSize>\\r\\n      <date type=\"modified\">2024-08-06T10:59:43.137Z</date>\\r\\n    </dataset>\\r\\n    <dataset name=\"PRCPTOT_S01_1992-2024_py85.nc\" ID=\"cline_yr/PRCPTOT_S01_1992-2024_py85.nc\" urlPath=\"cline_yr/PRCPTOT_S01_1992-2024_py85.nc\">\\r\\n      <dataSize units=\"Mbytes\">5.561</dataSize>\\r\\n      <date type=\"modified\">2024-08-06T10:59:44.253Z</date>\\r\\n    </dataset>\\r\\n    <dataset name=\"PRCPTOT_S02_1992-2024_py85.nc\" ID=\"cline_yr/PRCPTOT_S02_1992-2024_py85.nc\" urlPath=\"cline_yr/PRCPTOT_S02_1992-2024_py85.nc\">\\r\\n      <dataSize units=\"Mbytes\">5.561</dataSize>\\r\\n      <date type=\"modified\">2024-08-06T10:59:45.624Z</date>\\r\\n    </dataset>\\r\\n    <dataset name=\"PRCPTOT_S03_1992-2023_py85.nc\" ID=\"cline_yr/PRCPTOT_S03_1992-2023_py85.nc\" urlPath=\"cline_yr/PRCPTOT_S03_1992-2023_py85.nc\">\\r\\n      <dataSize units=\"Mbytes\">5.393</dataSize>\\r\\n      <date type=\"modified\">2024-08-06T10:59:46.900Z</date>\\r\\n    </dataset>\\r\\n    <dataset name=\"PRCPTOT_S04_1991-2023_py85.nc\" ID=\"cline_yr/PRCPTOT_S04_1991-2023_py85.nc\" urlPath=\"cline_yr/PRCPTOT_S04_1991-2023_py85.nc\">\\r\\n      <dataSize units=\"Mbytes\">5.561</dataSize>\\r\\n      <date type=\"modified\">2024-08-06T10:59:48.080Z</date>\\r\\n    </dataset>\\r\\n    <dataset name=\"SU30_A00_1992-2023_py85.nc\" ID=\"cline_yr/SU30_A00_1992-2023_py85.nc\" urlPath=\"cline_yr/SU30_A00_1992-2023_py85.nc\">\\r\\n      <dataSize units=\"Mbytes\">5.393</dataSize>\\r\\n      <date type=\"modified\">2024-08-06T11:01:01.328Z</date>\\r\\n    </dataset>\\r\\n    <dataset name=\"SU30_M05_1992-2024_py85.nc\" ID=\"cline_yr/SU30_M05_1992-2024_py85.nc\" urlPath=\"cline_yr/SU30_M05_1992-2024_py85.nc\">\\r\\n      <dataSize units=\"Mbytes\">5.561</dataSize>\\r\\n      <date type=\"modified\">2024-08-06T11:01:02.755Z</date>\\r\\n    </dataset>\\r\\n    <dataset name=\"SU30_M06_1992-2024_py85.nc\" ID=\"cline_yr/SU30_M06_1992-2024_py85.nc\" urlPath=\"cline_yr/SU30_M06_1992-2024_py85.nc\">\\r\\n      <dataSize units=\"Mbytes\">5.561</dataSize>\\r\\n      <date type=\"modified\">2024-08-06T11:01:04.098Z</date>\\r\\n    </dataset>\\r\\n    <dataset name=\"SU30_M07_1992-2024_py85.nc\" ID=\"cline_yr/SU30_M07_1992-2024_py85.nc\" urlPath=\"cline_yr/SU30_M07_1992-2024_py85.nc\">\\r\\n      <dataSize units=\"Mbytes\">5.561</dataSize>\\r\\n      <date type=\"modified\">2024-08-06T11:01:05.499Z</date>\\r\\n    </dataset>\\r\\n    <dataset name=\"SU30_M08_1992-2023_py85.nc\" ID=\"cline_yr/SU30_M08_1992-2023_py85.nc\" urlPath=\"cline_yr/SU30_M08_1992-2023_py85.nc\">\\r\\n      <dataSize units=\"Mbytes\">5.393</dataSize>\\r\\n      <date type=\"modified\">2024-08-06T11:01:06.995Z</date>\\r\\n    </dataset>\\r\\n    <dataset name=\"SU30_M09_1991-2023_py85.nc\" ID=\"cline_yr/SU30_M09_1991-2023_py85.nc\" urlPath=\"cline_yr/SU30_M09_1991-2023_py85.nc\">\\r\\n      <dataSize units=\"Mbytes\">5.561</dataSize>\\r\\n      <date type=\"modified\">2024-08-06T11:01:08.537Z</date>\\r\\n    </dataset>\\r\\n    <dataset name=\"SU30_S03_1992-2023_py85.nc\" ID=\"cline_yr/SU30_S03_1992-2023_py85.nc\" urlPath=\"cline_yr/SU30_S03_1992-2023_py85.nc\">\\r\\n      <dataSize units=\"Mbytes\">5.393</dataSize>\\r\\n      <date type=\"modified\">2024-08-06T11:01:10.041Z</date>\\r\\n    </dataset>\\r\\n    <dataset name=\"TDd_A00_1992-2023_py85.nc\" ID=\"cline_yr/TDd_A00_1992-2023_py85.nc\" urlPath=\"cline_yr/TDd_A00_1992-2023_py85.nc\">\\r\\n      <dataSize units=\"Mbytes\">5.393</dataSize>\\r\\n      <date type=\"modified\">2024-08-06T11:01:11.688Z</date>\\r\\n    </dataset>\\r\\n    <dataset name=\"TDd_M01_1992-2024_py85.nc\" ID=\"cline_yr/TDd_M01_1992-2024_py85.nc\" urlPath=\"cline_yr/TDd_M01_1992-2024_py85.nc\">\\r\\n      <dataSize units=\"Mbytes\">5.561</dataSize>\\r\\n      <date type=\"modified\">2024-08-06T11:01:13.388Z</date>\\r\\n    </dataset>\\r\\n    <dataset name=\"TDd_M02_1992-2024_py85.nc\" ID=\"cline_yr/TDd_M02_1992-2024_py85.nc\" urlPath=\"cline_yr/TDd_M02_1992-2024_py85.nc\">\\r\\n      <dataSize units=\"Mbytes\">5.561</dataSize>\\r\\n      <date type=\"modified\">2024-08-06T11:01:15.047Z</date>\\r\\n    </dataset>\\r\\n    <dataset name=\"TDd_M03_1992-2024_py85.nc\" ID=\"cline_yr/TDd_M03_1992-2024_py85.nc\" urlPath=\"cline_yr/TDd_M03_1992-2024_py85.nc\">\\r\\n      <dataSize units=\"Mbytes\">5.561</dataSize>\\r\\n      <date type=\"modified\">2024-08-06T11:01:16.579Z</date>\\r\\n    </dataset>\\r\\n    <dataset name=\"TDd_M04_1992-2024_py85.nc\" ID=\"cline_yr/TDd_M04_1992-2024_py85.nc\" urlPath=\"cline_yr/TDd_M04_1992-2024_py85.nc\">\\r\\n      <dataSize units=\"Mbytes\">5.561</dataSize>\\r\\n      <date type=\"modified\">2024-08-06T11:01:17.991Z</date>\\r\\n    </dataset>\\r\\n    <dataset name=\"TDd_M05_1992-2024_py85.nc\" ID=\"cline_yr/TDd_M05_1992-2024_py85.nc\" urlPath=\"cline_yr/TDd_M05_1992-2024_py85.nc\">\\r\\n      <dataSize units=\"Mbytes\">5.561</dataSize>\\r\\n      <date type=\"modified\">2024-08-06T11:01:19.427Z</date>\\r\\n    </dataset>\\r\\n    <dataset name=\"TDd_M06_1992-2024_py85.nc\" ID=\"cline_yr/TDd_M06_1992-2024_py85.nc\" urlPath=\"cline_yr/TDd_M06_1992-2024_py85.nc\">\\r\\n      <dataSize units=\"Mbytes\">5.561</dataSize>\\r\\n      <date type=\"modified\">2024-08-06T11:01:20.785Z</date>\\r\\n    </dataset>\\r\\n    <dataset name=\"TDd_M07_1992-2024_py85.nc\" ID=\"cline_yr/TDd_M07_1992-2024_py85.nc\" urlPath=\"cline_yr/TDd_M07_1992-2024_py85.nc\">\\r\\n      <dataSize units=\"Mbytes\">5.561</dataSize>\\r\\n      <date type=\"modified\">2024-08-06T11:01:22.067Z</date>\\r\\n    </dataset>\\r\\n    <dataset name=\"TDd_M08_1992-2023_py85.nc\" ID=\"cline_yr/TDd_M08_1992-2023_py85.nc\" urlPath=\"cline_yr/TDd_M08_1992-2023_py85.nc\">\\r\\n      <dataSize units=\"Mbytes\">5.393</dataSize>\\r\\n      <date type=\"modified\">2024-08-06T11:01:23.437Z</date>\\r\\n    </dataset>\\r\\n    <dataset name=\"TDd_M09_1991-2023_py85.nc\" ID=\"cline_yr/TDd_M09_1991-2023_py85.nc\" urlPath=\"cline_yr/TDd_M09_1991-2023_py85.nc\">\\r\\n      <dataSize units=\"Mbytes\">5.561</dataSize>\\r\\n      <date type=\"modified\">2024-08-06T11:01:24.775Z</date>\\r\\n    </dataset>\\r\\n    <dataset name=\"TDd_M10_1992-2023_py85.nc\" ID=\"cline_yr/TDd_M10_1992-2023_py85.nc\" urlPath=\"cline_yr/TDd_M10_1992-2023_py85.nc\">\\r\\n      <dataSize units=\"Mbytes\">5.393</dataSize>\\r\\n      <date type=\"modified\">2024-08-06T11:01:26.183Z</date>\\r\\n    </dataset>\\r\\n    <dataset name=\"TDd_M11_1992-2023_py85.nc\" ID=\"cline_yr/TDd_M11_1992-2023_py85.nc\" urlPath=\"cline_yr/TDd_M11_1992-2023_py85.nc\">\\r\\n      <dataSize units=\"Mbytes\">5.393</dataSize>\\r\\n      <date type=\"modified\">2024-08-06T11:01:27.660Z</date>\\r\\n    </dataset>\\r\\n    <dataset name=\"TDd_M12_1991-2023_py85.nc\" ID=\"cline_yr/TDd_M12_1991-2023_py85.nc\" urlPath=\"cline_yr/TDd_M12_1991-2023_py85.nc\">\\r\\n      <dataSize units=\"Mbytes\">5.561</dataSize>\\r\\n      <date type=\"modified\">2024-08-06T11:01:29.207Z</date>\\r\\n    </dataset>\\r\\n    <dataset name=\"TDd_S01_1992-2024_py85.nc\" ID=\"cline_yr/TDd_S01_1992-2024_py85.nc\" urlPath=\"cline_yr/TDd_S01_1992-2024_py85.nc\">\\r\\n      <dataSize units=\"Mbytes\">5.561</dataSize>\\r\\n      <date type=\"modified\">2024-08-06T11:01:30.946Z</date>\\r\\n    </dataset>\\r\\n    <dataset name=\"TDd_S02_1992-2024_py85.nc\" ID=\"cline_yr/TDd_S02_1992-2024_py85.nc\" urlPath=\"cline_yr/TDd_S02_1992-2024_py85.nc\">\\r\\n      <dataSize units=\"Mbytes\">5.561</dataSize>\\r\\n      <date type=\"modified\">2024-08-06T11:01:32.621Z</date>\\r\\n    </dataset>\\r\\n    <dataset name=\"TDd_S03_1992-2023_py85.nc\" ID=\"cline_yr/TDd_S03_1992-2023_py85.nc\" urlPath=\"cline_yr/TDd_S03_1992-2023_py85.nc\">\\r\\n      <dataSize units=\"Mbytes\">5.393</dataSize>\\r\\n      <date type=\"modified\">2024-08-06T11:01:34.104Z</date>\\r\\n    </dataset>\\r\\n    <dataset name=\"TDd_S04_1992-2023_py85.nc\" ID=\"cline_yr/TDd_S04_1992-2023_py85.nc\" urlPath=\"cline_yr/TDd_S04_1992-2023_py85.nc\">\\r\\n      <dataSize units=\"Mbytes\">5.393</dataSize>\\r\\n      <date type=\"modified\">2024-08-06T11:01:35.521Z</date>\\r\\n    </dataset>\\r\\n    <dataset name=\"TNd_A00_1992-2023_py85.nc\" ID=\"cline_yr/TNd_A00_1992-2023_py85.nc\" urlPath=\"cline_yr/TNd_A00_1992-2023_py85.nc\">\\r\\n      <dataSize units=\"Mbytes\">5.393</dataSize>\\r\\n      <date type=\"modified\">2024-08-06T11:01:36.962Z</date>\\r\\n    </dataset>\\r\\n    <dataset name=\"TNd_M01_1992-2024_py85.nc\" ID=\"cline_yr/TNd_M01_1992-2024_py85.nc\" urlPath=\"cline_yr/TNd_M01_1992-2024_py85.nc\">\\r\\n      <dataSize units=\"Mbytes\">5.561</dataSize>\\r\\n      <date type=\"modified\">2024-08-06T11:01:38.541Z</date>\\r\\n    </dataset>\\r\\n    <dataset name=\"TNd_M02_1992-2024_py85.nc\" ID=\"cline_yr/TNd_M02_1992-2024_py85.nc\" urlPath=\"cline_yr/TNd_M02_1992-2024_py85.nc\">\\r\\n      <dataSize units=\"Mbytes\">5.561</dataSize>\\r\\n      <date type=\"modified\">2024-08-06T11:01:40.062Z</date>\\r\\n    </dataset>\\r\\n    <dataset name=\"TNd_M03_1992-2024_py85.nc\" ID=\"cline_yr/TNd_M03_1992-2024_py85.nc\" urlPath=\"cline_yr/TNd_M03_1992-2024_py85.nc\">\\r\\n      <dataSize units=\"Mbytes\">5.561</dataSize>\\r\\n      <date type=\"modified\">2024-08-06T11:01:41.631Z</date>\\r\\n    </dataset>\\r\\n    <dataset name=\"TNd_M04_1992-2024_py85.nc\" ID=\"cline_yr/TNd_M04_1992-2024_py85.nc\" urlPath=\"cline_yr/TNd_M04_1992-2024_py85.nc\">\\r\\n      <dataSize units=\"Mbytes\">5.561</dataSize>\\r\\n      <date type=\"modified\">2024-08-06T11:01:43.094Z</date>\\r\\n    </dataset>\\r\\n    <dataset name=\"TNd_M05_1992-2024_py85.nc\" ID=\"cline_yr/TNd_M05_1992-2024_py85.nc\" urlPath=\"cline_yr/TNd_M05_1992-2024_py85.nc\">\\r\\n      <dataSize units=\"Mbytes\">5.561</dataSize>\\r\\n      <date type=\"modified\">2024-08-06T11:01:44.844Z</date>\\r\\n    </dataset>\\r\\n    <dataset name=\"TNd_M06_1992-2024_py85.nc\" ID=\"cline_yr/TNd_M06_1992-2024_py85.nc\" urlPath=\"cline_yr/TNd_M06_1992-2024_py85.nc\">\\r\\n      <dataSize units=\"Mbytes\">5.561</dataSize>\\r\\n      <date type=\"modified\">2024-08-06T11:01:46.804Z</date>\\r\\n    </dataset>\\r\\n    <dataset name=\"TNd_M07_1992-2024_py85.nc\" ID=\"cline_yr/TNd_M07_1992-2024_py85.nc\" urlPath=\"cline_yr/TNd_M07_1992-2024_py85.nc\">\\r\\n      <dataSize units=\"Mbytes\">5.561</dataSize>\\r\\n      <date type=\"modified\">2024-08-06T11:01:48.754Z</date>\\r\\n    </dataset>\\r\\n    <dataset name=\"TNd_M08_1992-2023_py85.nc\" ID=\"cline_yr/TNd_M08_1992-2023_py85.nc\" urlPath=\"cline_yr/TNd_M08_1992-2023_py85.nc\">\\r\\n      <dataSize units=\"Mbytes\">5.393</dataSize>\\r\\n      <date type=\"modified\">2024-08-06T11:01:50.590Z</date>\\r\\n    </dataset>\\r\\n    <dataset name=\"TNd_M09_1991-2023_py85.nc\" ID=\"cline_yr/TNd_M09_1991-2023_py85.nc\" urlPath=\"cline_yr/TNd_M09_1991-2023_py85.nc\">\\r\\n      <dataSize units=\"Mbytes\">5.561</dataSize>\\r\\n      <date type=\"modified\">2024-08-06T11:01:52.112Z</date>\\r\\n    </dataset>\\r\\n    <dataset name=\"TNd_M10_1991-2023_py85.nc\" ID=\"cline_yr/TNd_M10_1991-2023_py85.nc\" urlPath=\"cline_yr/TNd_M10_1991-2023_py85.nc\">\\r\\n      <dataSize units=\"Mbytes\">5.561</dataSize>\\r\\n      <date type=\"modified\">2024-08-06T11:01:53.621Z</date>\\r\\n    </dataset>\\r\\n    <dataset name=\"TNd_M11_1992-2023_py85.nc\" ID=\"cline_yr/TNd_M11_1992-2023_py85.nc\" urlPath=\"cline_yr/TNd_M11_1992-2023_py85.nc\">\\r\\n      <dataSize units=\"Mbytes\">5.393</dataSize>\\r\\n      <date type=\"modified\">2024-08-06T11:01:55.148Z</date>\\r\\n    </dataset>\\r\\n    <dataset name=\"TNd_M12_1991-2023_py85.nc\" ID=\"cline_yr/TNd_M12_1991-2023_py85.nc\" urlPath=\"cline_yr/TNd_M12_1991-2023_py85.nc\">\\r\\n      <dataSize units=\"Mbytes\">5.561</dataSize>\\r\\n      <date type=\"modified\">2024-08-06T11:01:56.660Z</date>\\r\\n    </dataset>\\r\\n    <dataset name=\"TNd_S01_1992-2024_py85.nc\" ID=\"cline_yr/TNd_S01_1992-2024_py85.nc\" urlPath=\"cline_yr/TNd_S01_1992-2024_py85.nc\">\\r\\n      <dataSize units=\"Mbytes\">5.561</dataSize>\\r\\n      <date type=\"modified\">2024-08-06T11:01:58.228Z</date>\\r\\n    </dataset>\\r\\n    <dataset name=\"TNd_S02_1992-2024_py85.nc\" ID=\"cline_yr/TNd_S02_1992-2024_py85.nc\" urlPath=\"cline_yr/TNd_S02_1992-2024_py85.nc\">\\r\\n      <dataSize units=\"Mbytes\">5.561</dataSize>\\r\\n      <date type=\"modified\">2024-08-06T11:02:00.092Z</date>\\r\\n    </dataset>\\r\\n    <dataset name=\"TNd_S03_1992-2023_py85.nc\" ID=\"cline_yr/TNd_S03_1992-2023_py85.nc\" urlPath=\"cline_yr/TNd_S03_1992-2023_py85.nc\">\\r\\n      <dataSize units=\"Mbytes\">5.393</dataSize>\\r\\n      <date type=\"modified\">2024-08-06T11:02:01.661Z</date>\\r\\n    </dataset>\\r\\n    <dataset name=\"TNd_S04_1992-2023_py85.nc\" ID=\"cline_yr/TNd_S04_1992-2023_py85.nc\" urlPath=\"cline_yr/TNd_S04_1992-2023_py85.nc\">\\r\\n      <dataSize units=\"Mbytes\">5.393</dataSize>\\r\\n      <date type=\"modified\">2024-08-06T11:02:03.332Z</date>\\r\\n    </dataset>\\r\\n    <dataset name=\"TR_A00_1992-2023_py85.nc\" ID=\"cline_yr/TR_A00_1992-2023_py85.nc\" urlPath=\"cline_yr/TR_A00_1992-2023_py85.nc\">\\r\\n      <dataSize units=\"Mbytes\">5.393</dataSize>\\r\\n      <date type=\"modified\">2024-08-06T11:02:05.089Z</date>\\r\\n    </dataset>\\r\\n    <dataset name=\"TXd_A00_1992-2023_py85.nc\" ID=\"cline_yr/TXd_A00_1992-2023_py85.nc\" urlPath=\"cline_yr/TXd_A00_1992-2023_py85.nc\">\\r\\n      <dataSize units=\"Mbytes\">5.393</dataSize>\\r\\n      <date type=\"modified\">2024-08-06T11:02:15.610Z</date>\\r\\n    </dataset>\\r\\n    <dataset name=\"TXd_M01_1992-2024_py85.nc\" ID=\"cline_yr/TXd_M01_1992-2024_py85.nc\" urlPath=\"cline_yr/TXd_M01_1992-2024_py85.nc\">\\r\\n      <dataSize units=\"Mbytes\">5.561</dataSize>\\r\\n      <date type=\"modified\">2024-08-06T11:02:17.140Z</date>\\r\\n    </dataset>\\r\\n    <dataset name=\"TXd_M02_1992-2024_py85.nc\" ID=\"cline_yr/TXd_M02_1992-2024_py85.nc\" urlPath=\"cline_yr/TXd_M02_1992-2024_py85.nc\">\\r\\n      <dataSize units=\"Mbytes\">5.561</dataSize>\\r\\n      <date type=\"modified\">2024-08-06T11:02:18.708Z</date>\\r\\n    </dataset>\\r\\n    <dataset name=\"TXd_M03_1992-2024_py85.nc\" ID=\"cline_yr/TXd_M03_1992-2024_py85.nc\" urlPath=\"cline_yr/TXd_M03_1992-2024_py85.nc\">\\r\\n      <dataSize units=\"Mbytes\">5.561</dataSize>\\r\\n      <date type=\"modified\">2024-08-06T11:02:20.160Z</date>\\r\\n    </dataset>\\r\\n    <dataset name=\"TXd_M04_1992-2024_py85.nc\" ID=\"cline_yr/TXd_M04_1992-2024_py85.nc\" urlPath=\"cline_yr/TXd_M04_1992-2024_py85.nc\">\\r\\n      <dataSize units=\"Mbytes\">5.561</dataSize>\\r\\n      <date type=\"modified\">2024-08-06T11:02:21.560Z</date>\\r\\n    </dataset>\\r\\n    <dataset name=\"TXd_M05_1992-2024_py85.nc\" ID=\"cline_yr/TXd_M05_1992-2024_py85.nc\" urlPath=\"cline_yr/TXd_M05_1992-2024_py85.nc\">\\r\\n      <dataSize units=\"Mbytes\">5.561</dataSize>\\r\\n      <date type=\"modified\">2024-08-06T11:02:22.975Z</date>\\r\\n    </dataset>\\r\\n    <dataset name=\"TXd_M06_1992-2024_py85.nc\" ID=\"cline_yr/TXd_M06_1992-2024_py85.nc\" urlPath=\"cline_yr/TXd_M06_1992-2024_py85.nc\">\\r\\n      <dataSize units=\"Mbytes\">5.561</dataSize>\\r\\n      <date type=\"modified\">2024-08-06T11:02:24.489Z</date>\\r\\n    </dataset>\\r\\n    <dataset name=\"TXd_M07_1992-2024_py85.nc\" ID=\"cline_yr/TXd_M07_1992-2024_py85.nc\" urlPath=\"cline_yr/TXd_M07_1992-2024_py85.nc\">\\r\\n      <dataSize units=\"Mbytes\">5.561</dataSize>\\r\\n      <date type=\"modified\">2024-08-06T11:02:26.067Z</date>\\r\\n    </dataset>\\r\\n    <dataset name=\"TXd_M08_1992-2023_py85.nc\" ID=\"cline_yr/TXd_M08_1992-2023_py85.nc\" urlPath=\"cline_yr/TXd_M08_1992-2023_py85.nc\">\\r\\n      <dataSize units=\"Mbytes\">5.393</dataSize>\\r\\n      <date type=\"modified\">2024-08-06T11:02:27.563Z</date>\\r\\n    </dataset>\\r\\n    <dataset name=\"TXd_M09_1991-2023_py85.nc\" ID=\"cline_yr/TXd_M09_1991-2023_py85.nc\" urlPath=\"cline_yr/TXd_M09_1991-2023_py85.nc\">\\r\\n      <dataSize units=\"Mbytes\">5.561</dataSize>\\r\\n      <date type=\"modified\">2024-08-06T11:02:29.283Z</date>\\r\\n    </dataset>\\r\\n    <dataset name=\"TXd_M10_1991-2023_py85.nc\" ID=\"cline_yr/TXd_M10_1991-2023_py85.nc\" urlPath=\"cline_yr/TXd_M10_1991-2023_py85.nc\">\\r\\n      <dataSize units=\"Mbytes\">5.561</dataSize>\\r\\n      <date type=\"modified\">2024-08-06T11:02:31.176Z</date>\\r\\n    </dataset>\\r\\n    <dataset name=\"TXd_M11_1992-2023_py85.nc\" ID=\"cline_yr/TXd_M11_1992-2023_py85.nc\" urlPath=\"cline_yr/TXd_M11_1992-2023_py85.nc\">\\r\\n      <dataSize units=\"Mbytes\">5.393</dataSize>\\r\\n      <date type=\"modified\">2024-08-06T11:02:31.759Z</date>\\r\\n    </dataset>\\r\\n    <dataset name=\"TXd_M12_1991-2023_py85.nc\" ID=\"cline_yr/TXd_M12_1991-2023_py85.nc\" urlPath=\"cline_yr/TXd_M12_1991-2023_py85.nc\">\\r\\n      <dataSize units=\"Mbytes\">5.561</dataSize>\\r\\n      <date type=\"modified\">2024-08-06T11:02:33.525Z</date>\\r\\n    </dataset>\\r\\n    <dataset name=\"TXd_S01_1992-2024_py85.nc\" ID=\"cline_yr/TXd_S01_1992-2024_py85.nc\" urlPath=\"cline_yr/TXd_S01_1992-2024_py85.nc\">\\r\\n      <dataSize units=\"Mbytes\">5.561</dataSize>\\r\\n      <date type=\"modified\">2024-08-06T11:02:35.179Z</date>\\r\\n    </dataset>\\r\\n    <dataset name=\"TXd_S02_1992-2024_py85.nc\" ID=\"cline_yr/TXd_S02_1992-2024_py85.nc\" urlPath=\"cline_yr/TXd_S02_1992-2024_py85.nc\">\\r\\n      <dataSize units=\"Mbytes\">5.561</dataSize>\\r\\n      <date type=\"modified\">2024-08-06T11:02:36.913Z</date>\\r\\n    </dataset>\\r\\n    <dataset name=\"TXd_S03_1992-2023_py85.nc\" ID=\"cline_yr/TXd_S03_1992-2023_py85.nc\" urlPath=\"cline_yr/TXd_S03_1992-2023_py85.nc\">\\r\\n      <dataSize units=\"Mbytes\">5.393</dataSize>\\r\\n      <date type=\"modified\">2024-08-06T11:02:38.339Z</date>\\r\\n    </dataset>\\r\\n    <dataset name=\"TXd_S04_1992-2023_py85.nc\" ID=\"cline_yr/TXd_S04_1992-2023_py85.nc\" urlPath=\"cline_yr/TXd_S04_1992-2023_py85.nc\">\\r\\n      <dataSize units=\"Mbytes\">5.393</dataSize>\\r\\n      <date type=\"modified\">2024-08-06T11:02:39.282Z</date>\\r\\n    </dataset>\\r\\n    <catalogRef xlink:href=\"no_cline/catalog.xml\" xlink:title=\"no_cline\" ID=\"cline_yr/no_cline\" name=\"no_cline\">\\r\\n      <property name=\"DatasetScan\" value=\"true\" />\\r\\n    </catalogRef>\\r\\n  </dataset>\\r\\n</catalog>\\r\\n'"
      ]
     },
     "execution_count": 33,
     "metadata": {},
     "output_type": "execute_result"
    }
   ],
   "source": [
    "response.content"
   ]
  },
  {
   "cell_type": "code",
   "execution_count": 15,
   "id": "85b5c185-97d4-4f65-b496-d293dd12bc19",
   "metadata": {},
   "outputs": [],
   "source": [
    "root = etree.fromstring(response.content)"
   ]
  },
  {
   "cell_type": "code",
   "execution_count": 51,
   "id": "29c70e64-1923-4d7e-a9d0-f2eb16dbb55d",
   "metadata": {},
   "outputs": [
    {
     "ename": "ParseError",
     "evalue": "not well-formed (invalid token): line 1, column 0 (<string>)",
     "output_type": "error",
     "traceback": [
      "Traceback \u001b[0;36m(most recent call last)\u001b[0m:\n",
      "\u001b[0m  File \u001b[1;32m~/.cache/pypoetry/virtualenvs/arpav-ppcv-backend-f8CPI8sp-py3.10/lib/python3.10/site-packages/IPython/core/interactiveshell.py:3577\u001b[0m in \u001b[1;35mrun_code\u001b[0m\n    exec(code_obj, self.user_global_ns, self.user_ns)\u001b[0m\n",
      "\u001b[0m  Cell \u001b[1;32mIn[51], line 1\u001b[0m\n    etree.fromstring('{\"a\": \"b\"}')\u001b[0m\n",
      "\u001b[0;36m  File \u001b[0;32m/usr/local/lib/python3.10/xml/etree/ElementTree.py:1347\u001b[0;36m in \u001b[0;35mXML\u001b[0;36m\n\u001b[0;31m    parser.feed(text)\u001b[0;36m\n",
      "\u001b[0;36m  File \u001b[0;32m<string>\u001b[0;36m\u001b[0m\n\u001b[0;31mParseError\u001b[0m\u001b[0;31m:\u001b[0m not well-formed (invalid token): line 1, column 0\n"
     ]
    }
   ],
   "source": [
    "etree.fromstring('{\"a\": \"b\"}')"
   ]
  },
  {
   "cell_type": "code",
   "execution_count": 19,
   "id": "e33ce90a-a505-41d5-8f2f-121ba88d98d3",
   "metadata": {},
   "outputs": [],
   "source": [
    "ns = {\n",
    "    \"thredds\": \"http://www.unidata.ucar.edu/namespaces/thredds/InvCatalog/v1.0\"\n",
    "}"
   ]
  },
  {
   "cell_type": "code",
   "execution_count": 23,
   "id": "75995b73-b1c4-42be-9471-6ab3818122ad",
   "metadata": {},
   "outputs": [
    {
     "data": {
      "text/plain": [
       "'{http://www.unidata.ucar.edu/namespaces/thredds/InvCatalog/v1.0}/service'"
      ]
     },
     "execution_count": 23,
     "metadata": {},
     "output_type": "execute_result"
    }
   ],
   "source": [
    "f\"{{{ns['thredds']}}}/service\""
   ]
  },
  {
   "cell_type": "code",
   "execution_count": 32,
   "id": "0ab973d3-ce6a-4779-b8a1-7c5cdb1340da",
   "metadata": {},
   "outputs": [
    {
     "data": {
      "text/plain": [
       "'.//{http://www.unidata.ucar.edu/namespaces/thredds/InvCatalog/v1.0}dataset'"
      ]
     },
     "execution_count": 32,
     "metadata": {},
     "output_type": "execute_result"
    }
   ],
   "source": [
    "f\".//{{{ns['thredds']}}}dataset\""
   ]
  },
  {
   "cell_type": "code",
   "execution_count": 50,
   "id": "89977c45-8c1b-4fd0-b56a-9c9bb536d160",
   "metadata": {},
   "outputs": [
    {
     "data": {
      "text/plain": [
       "['PRCPTOT_M01_1992-2024_py85.nc']"
      ]
     },
     "execution_count": 50,
     "metadata": {},
     "output_type": "execute_result"
    }
   ],
   "source": [
    "fnmatch.filter((ds_el.get(\"name\", \"\") for ds_el in root.findall(f\".//{{{ns['thredds']}}}dataset\")), \"PRCPTOT_M01_1992-202[34]_py85.nc\")"
   ]
  },
  {
   "cell_type": "code",
   "execution_count": 39,
   "id": "0cf4e113-229d-4492-b28a-208862d25cfd",
   "metadata": {},
   "outputs": [
    {
     "name": "stdout",
     "output_type": "stream",
     "text": [
      "CDD_jrc_A00_1992-2023_py85.nc\n",
      "FD_A00_1992-2023_py85.nc\n",
      "HDD_it_A00_1992-2023_py85.nc\n",
      "PRCPTOT_A00_1992-2023_py85.nc\n",
      "PRCPTOT_M01_1992-2024_py85.nc\n",
      "PRCPTOT_M02_1992-2024_py85.nc\n",
      "PRCPTOT_M03_1992-2024_py85.nc\n",
      "PRCPTOT_M04_1992-2024_py85.nc\n",
      "PRCPTOT_M05_1992-2024_py85.nc\n",
      "PRCPTOT_M06_1991-2024_py85.nc\n",
      "PRCPTOT_M07_1992-2024_py85.nc\n",
      "PRCPTOT_M08_1991-2023_py85.nc\n",
      "PRCPTOT_M09_1991-2023_py85.nc\n",
      "PRCPTOT_M10_1991-2023_py85.nc\n",
      "PRCPTOT_M11_1991-2023_py85.nc\n",
      "PRCPTOT_M12_1991-2023_py85.nc\n",
      "PRCPTOT_S01_1992-2024_py85.nc\n",
      "PRCPTOT_S02_1992-2024_py85.nc\n",
      "PRCPTOT_S03_1992-2023_py85.nc\n",
      "PRCPTOT_S04_1991-2023_py85.nc\n",
      "SU30_A00_1992-2023_py85.nc\n",
      "SU30_M05_1992-2024_py85.nc\n",
      "SU30_M06_1992-2024_py85.nc\n",
      "SU30_M07_1992-2024_py85.nc\n",
      "SU30_M08_1992-2023_py85.nc\n",
      "SU30_M09_1991-2023_py85.nc\n",
      "SU30_S03_1992-2023_py85.nc\n",
      "TDd_A00_1992-2023_py85.nc\n",
      "TDd_M01_1992-2024_py85.nc\n",
      "TDd_M02_1992-2024_py85.nc\n",
      "TDd_M03_1992-2024_py85.nc\n",
      "TDd_M04_1992-2024_py85.nc\n",
      "TDd_M05_1992-2024_py85.nc\n",
      "TDd_M06_1992-2024_py85.nc\n",
      "TDd_M07_1992-2024_py85.nc\n",
      "TDd_M08_1992-2023_py85.nc\n",
      "TDd_M09_1991-2023_py85.nc\n",
      "TDd_M10_1992-2023_py85.nc\n",
      "TDd_M11_1992-2023_py85.nc\n",
      "TDd_M12_1991-2023_py85.nc\n",
      "TDd_S01_1992-2024_py85.nc\n",
      "TDd_S02_1992-2024_py85.nc\n",
      "TDd_S03_1992-2023_py85.nc\n",
      "TDd_S04_1992-2023_py85.nc\n",
      "TNd_A00_1992-2023_py85.nc\n",
      "TNd_M01_1992-2024_py85.nc\n",
      "TNd_M02_1992-2024_py85.nc\n",
      "TNd_M03_1992-2024_py85.nc\n",
      "TNd_M04_1992-2024_py85.nc\n",
      "TNd_M05_1992-2024_py85.nc\n",
      "TNd_M06_1992-2024_py85.nc\n",
      "TNd_M07_1992-2024_py85.nc\n",
      "TNd_M08_1992-2023_py85.nc\n",
      "TNd_M09_1991-2023_py85.nc\n",
      "TNd_M10_1991-2023_py85.nc\n",
      "TNd_M11_1992-2023_py85.nc\n",
      "TNd_M12_1991-2023_py85.nc\n",
      "TNd_S01_1992-2024_py85.nc\n",
      "TNd_S02_1992-2024_py85.nc\n",
      "TNd_S03_1992-2023_py85.nc\n",
      "TNd_S04_1992-2023_py85.nc\n",
      "TR_A00_1992-2023_py85.nc\n",
      "TXd_A00_1992-2023_py85.nc\n",
      "TXd_M01_1992-2024_py85.nc\n",
      "TXd_M02_1992-2024_py85.nc\n",
      "TXd_M03_1992-2024_py85.nc\n",
      "TXd_M04_1992-2024_py85.nc\n",
      "TXd_M05_1992-2024_py85.nc\n",
      "TXd_M06_1992-2024_py85.nc\n",
      "TXd_M07_1992-2024_py85.nc\n",
      "TXd_M08_1992-2023_py85.nc\n",
      "TXd_M09_1991-2023_py85.nc\n",
      "TXd_M10_1991-2023_py85.nc\n",
      "TXd_M11_1992-2023_py85.nc\n",
      "TXd_M12_1991-2023_py85.nc\n",
      "TXd_S01_1992-2024_py85.nc\n",
      "TXd_S02_1992-2024_py85.nc\n",
      "TXd_S03_1992-2023_py85.nc\n",
      "TXd_S04_1992-2023_py85.nc\n"
     ]
    }
   ],
   "source": [
    "for dataset_el in root.findall(f\".//{{{ns['thredds']}}}dataset\"):\n",
    "    if (name := dataset_el.get(\"name\", \"\")).endswith(\".nc\"):\n",
    "        print(dataset_el.get(\"name\"))"
   ]
  }
 ],
 "metadata": {
  "kernelspec": {
   "display_name": "Python 3 (ipykernel)",
   "language": "python",
   "name": "python3"
  },
  "language_info": {
   "codemirror_mode": {
    "name": "ipython",
    "version": 3
   },
   "file_extension": ".py",
   "mimetype": "text/x-python",
   "name": "python",
   "nbconvert_exporter": "python",
   "pygments_lexer": "ipython3",
   "version": "3.10.14"
  }
 },
 "nbformat": 4,
 "nbformat_minor": 5
}
