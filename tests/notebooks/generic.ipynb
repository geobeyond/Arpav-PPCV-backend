{
 "cells": [
  {
   "cell_type": "code",
   "execution_count": 1,
   "id": "dbcc00b1-2fc1-43ff-9549-ebca8cf03262",
   "metadata": {},
   "source": [
    "%matplotlib widget\n",
    "\n",
    "import logging\n",
    "\n",
    "import httpx\n",
    "import matplotlib.pyplot as plt\n",
    "import pandas as pd\n",
    "import shapely.io\n",
    "import sqlmodel\n",
    "from loess.loess_1d import loess_1d\n",
    "\n",
    "from arpav_ppcv import (\n",
    "    database as db,\n",
    "    operations,\n",
    ")\n",
    "from arpav_ppcv.config import get_settings\n",
    "from arpav_ppcv.schemas.base import (\n",
    "    CoverageDataSmoothingStrategy,\n",
    "    ObservationDataSmoothingStrategy,\n",
    "    ObservationAggregationType,\n",
    "    Season,\n",
    ")\n",
    "\n",
    "logging.basicConfig(level=logging.DEBUG)\n",
    "logging.getLogger(\"httpx\").setLevel(logging.WARNING)\n",
    "logging.getLogger(\"httpcore\").setLevel(logging.WARNING)\n",
    "logging.getLogger(\"matplotlib\").setLevel(logging.WARNING)\n",
    "\n",
    "settings = get_settings()\n",
    "session = sqlmodel.Session(db.get_engine(settings))\n",
    "http_client = httpx.Client()"
   ],
   "outputs": []
  },
  {
   "cell_type": "code",
   "execution_count": 2,
   "id": "4528e9d8-18b5-4579-b80e-423ce6bd5620",
   "metadata": {},
   "source": [
    "station = db.get_station_by_code(session, \"93\")"
   ],
   "outputs": []
  },
  {
   "cell_type": "code",
   "execution_count": 8,
   "id": "dc76a07a-af67-43bf-b66f-c6c7310416d9",
   "metadata": {},
   "source": [
    "station.model_dump()"
   ],
   "outputs": []
  },
  {
   "cell_type": "code",
   "execution_count": 9,
   "id": "2753c89b-2aa2-40ea-aa64-a30fc3b7f359",
   "metadata": {},
   "source": [
    "float(\"b\")"
   ],
   "outputs": []
  }
 ],
 "metadata": {
  "kernelspec": {
   "display_name": "Python 3 (ipykernel)",
   "language": "python",
   "name": "python3"
  },
  "language_info": {
   "codemirror_mode": {
    "name": "ipython",
    "version": 3
   },
   "file_extension": ".py",
   "mimetype": "text/x-python",
   "name": "python",
   "nbconvert_exporter": "python",
   "pygments_lexer": "ipython3",
   "version": "3.10.14"
  }
 },
 "nbformat": 4,
 "nbformat_minor": 5
}
