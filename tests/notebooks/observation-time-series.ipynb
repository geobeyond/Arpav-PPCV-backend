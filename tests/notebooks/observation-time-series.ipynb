{
 "cells": [
  {
   "cell_type": "code",
   "execution_count": 1,
   "id": "0ec6f604-9a02-4134-bff7-38e14eb206c3",
   "metadata": {},
   "source": [
    "import httpx\n",
    "import pandas as pd\n",
    "import sqlmodel\n",
    "\n",
    "from arpav_ppcv import (\n",
    "    config,\n",
    "    database,\n",
    "    operations,\n",
    ")\n",
    "from arpav_ppcv.schemas.base import ObservationDataSmoothingStrategy\n",
    "\n",
    "settings = config.get_settings()\n",
    "session = sqlmodel.Session(database.get_engine(settings))"
   ],
   "outputs": []
  },
  {
   "cell_type": "code",
   "execution_count": 2,
   "id": "29c10539-8a2e-4eba-b835-7ad0180fecbf",
   "metadata": {},
   "source": [
    "variable = database.get_variable_by_name(session, \"TDd\")\n",
    "station = database.get_station_by_code(session, \"93\")"
   ],
   "outputs": []
  },
  {
   "cell_type": "code",
   "execution_count": 3,
   "id": "233ab640-9ac4-4fe0-b4b3-31e177cb67b1",
   "metadata": {},
   "source": [
    "df = operations.get_observation_time_series(\n",
    "    settings,\n",
    "    session,\n",
    "    variable,\n",
    "    station,\n",
    "    month=1,\n",
    "    temporal_range=\"../..\",\n",
    "    smoothing_strategy=ObservationDataSmoothingStrategy.MOVING_AVERAGE_5_YEARS,\n",
    "    include_decade_data=True\n",
    ")"
   ],
   "outputs": []
  },
  {
   "cell_type": "code",
   "execution_count": 4,
   "id": "45adb756-b29c-4f22-be57-c2cab435fbf3",
   "metadata": {},
   "source": [
    "df.info()"
   ],
   "outputs": []
  },
  {
   "cell_type": "code",
   "execution_count": 5,
   "id": "3721213e-b5cd-484e-81c1-2c558a22aa66",
   "metadata": {},
   "source": [
    "df"
   ],
   "outputs": []
  },
  {
   "cell_type": "code",
   "execution_count": 8,
   "id": "8b1bc0dc-dc31-489f-a2b9-92203dfad71b",
   "metadata": {},
   "source": [
    "measurements = database.collect_all_monthly_measurements(\n",
    "    session,\n",
    "    station_id_filter=station.id,\n",
    "    variable_id_filter=variable.id,\n",
    "    month_filter=1,\n",
    ")"
   ],
   "outputs": []
  },
  {
   "cell_type": "code",
   "execution_count": 9,
   "id": "e1f482f2-00b4-42ae-945a-28fc7eb052e0",
   "metadata": {},
   "source": [
    "import pandas as pd"
   ],
   "outputs": []
  },
  {
   "cell_type": "code",
   "execution_count": 10,
   "id": "dab9d99d-d072-4597-a167-c298a7c87fbd",
   "metadata": {},
   "source": [
    "df = pd.DataFrame([m.model_dump() for m in measurements])"
   ],
   "outputs": []
  },
  {
   "cell_type": "code",
   "execution_count": 11,
   "id": "ffc4e239-704e-4d32-a5a8-cf7e7355fb88",
   "metadata": {},
   "source": [
    "df = df[[\"value\", \"date\"]].rename(columns={\"value\": variable.name})"
   ],
   "outputs": []
  },
  {
   "cell_type": "code",
   "execution_count": 12,
   "id": "1984ae57-e0cf-4116-921e-25c12ada7704",
   "metadata": {},
   "source": [
    "df[\"time\"] = pd.to_datetime(df[\"date\"], utc=True)"
   ],
   "outputs": []
  },
  {
   "cell_type": "code",
   "execution_count": 13,
   "id": "35a54bf3-7188-480e-b26a-3cbed663dc18",
   "metadata": {},
   "source": [
    "df = df[[variable.name, \"time\"]]"
   ],
   "outputs": []
  },
  {
   "cell_type": "code",
   "execution_count": 14,
   "id": "06fc4b5e-cacb-406b-a4bd-fd79482ea2c8",
   "metadata": {},
   "source": [
    "df.set_index(\"time\", inplace=True)"
   ],
   "outputs": []
  },
  {
   "cell_type": "code",
   "execution_count": 15,
   "id": "13197e4a-fd44-4726-8453-cf1ea07ef2f2",
   "metadata": {},
   "source": [
    "df"
   ],
   "outputs": []
  },
  {
   "cell_type": "code",
   "execution_count": 16,
   "id": "140d4d79-d29d-4bc9-9b3c-32a58ba86eb3",
   "metadata": {},
   "source": [
    "decade_df = df.groupby((df.index.year//10)*10).mean()"
   ],
   "outputs": []
  },
  {
   "cell_type": "code",
   "execution_count": 27,
   "id": "3cc1bc1e-3c3c-41ec-a81e-1af227c81f46",
   "metadata": {},
   "source": [
    "df[\"decade\"] = (df.index.year // 10) * 10"
   ],
   "outputs": []
  },
  {
   "cell_type": "code",
   "execution_count": 36,
   "id": "7cc60818-3e17-485c-b1af-71f22bf9efbf",
   "metadata": {},
   "source": [
    "merged = df.merge(decade_df, how=\"inner\", left_on=\"decade\", right_on=\"time\")"
   ],
   "outputs": []
  },
  {
   "cell_type": "code",
   "execution_count": 37,
   "id": "60faf9ad-6bed-4f81-9c61-911f19f56029",
   "metadata": {},
   "source": [
    "merged"
   ],
   "outputs": []
  },
  {
   "cell_type": "code",
   "execution_count": 42,
   "id": "5f5fa178-43ca-4115-967c-167e9d056ad6",
   "metadata": {},
   "source": [
    "decade_df"
   ],
   "outputs": []
  },
  {
   "cell_type": "code",
   "execution_count": 50,
   "id": "b1b2b066-4c7a-4d3d-89b9-d65dd86fa282",
   "metadata": {},
   "source": [
    "df.join(decade_df, on=\"decade\", rsuffix=\"_decade\")"
   ],
   "outputs": []
  }
 ],
 "metadata": {
  "kernelspec": {
   "display_name": "Python 3 (ipykernel)",
   "language": "python",
   "name": "python3"
  },
  "language_info": {
   "codemirror_mode": {
    "name": "ipython",
    "version": 3
   },
   "file_extension": ".py",
   "mimetype": "text/x-python",
   "name": "python",
   "nbconvert_exporter": "python",
   "pygments_lexer": "ipython3",
   "version": "3.10.14"
  }
 },
 "nbformat": 4,
 "nbformat_minor": 5
}
